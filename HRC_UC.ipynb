{
  "nbformat": 4,
  "nbformat_minor": 0,
  "metadata": {
    "colab": {
      "name": "HRC UC.ipynb",
      "version": "0.3.2",
      "provenance": [],
      "collapsed_sections": []
    },
    "kernelspec": {
      "name": "python3",
      "display_name": "Python 3"
    }
  },
  "cells": [
    {
      "metadata": {
        "id": "16Gwc01py9Il",
        "colab_type": "code",
        "colab": {
          "base_uri": "https://localhost:8080/",
          "height": 204
        },
        "outputId": "b44f1e2e-9417-47c0-f0e1-1963467e8d0c"
      },
      "cell_type": "code",
      "source": [
        "!wget http://archive.ics.uci.edu/ml/machine-learning-databases/00240/UCI%20HAR%20Dataset.zip"
      ],
      "execution_count": 1,
      "outputs": [
        {
          "output_type": "stream",
          "text": [
            "--2018-12-29 03:31:45--  http://archive.ics.uci.edu/ml/machine-learning-databases/00240/UCI%20HAR%20Dataset.zip\n",
            "Resolving archive.ics.uci.edu (archive.ics.uci.edu)... 128.195.10.249\n",
            "Connecting to archive.ics.uci.edu (archive.ics.uci.edu)|128.195.10.249|:80... connected.\n",
            "HTTP request sent, awaiting response... 200 OK\n",
            "Length: 60999314 (58M) [application/zip]\n",
            "Saving to: ‘UCI HAR Dataset.zip’\n",
            "\n",
            "UCI HAR Dataset.zip 100%[===================>]  58.17M  7.62MB/s    in 12s     \n",
            "\n",
            "2018-12-29 03:31:58 (4.76 MB/s) - ‘UCI HAR Dataset.zip’ saved [60999314/60999314]\n",
            "\n"
          ],
          "name": "stdout"
        }
      ]
    },
    {
      "metadata": {
        "id": "NaOCh1O6zAZn",
        "colab_type": "code",
        "colab": {
          "base_uri": "https://localhost:8080/",
          "height": 204
        },
        "outputId": "6f340e78-290a-4f92-affd-3ae4ef58572f"
      },
      "cell_type": "code",
      "source": [
        "!wget http://archive.ics.uci.edu/ml/machine-learning-databases/00240/UCI%20HAR%20Dataset.names"
      ],
      "execution_count": 2,
      "outputs": [
        {
          "output_type": "stream",
          "text": [
            "--2018-12-29 03:32:02--  http://archive.ics.uci.edu/ml/machine-learning-databases/00240/UCI%20HAR%20Dataset.names\n",
            "Resolving archive.ics.uci.edu (archive.ics.uci.edu)... 128.195.10.249\n",
            "Connecting to archive.ics.uci.edu (archive.ics.uci.edu)|128.195.10.249|:80... connected.\n",
            "HTTP request sent, awaiting response... 200 OK\n",
            "Length: 6304 (6.2K) [text/plain]\n",
            "Saving to: ‘UCI HAR Dataset.names’\n",
            "\n",
            "\rUCI HAR Dataset.nam   0%[                    ]       0  --.-KB/s               \rUCI HAR Dataset.nam 100%[===================>]   6.16K  --.-KB/s    in 0s      \n",
            "\n",
            "2018-12-29 03:32:02 (464 MB/s) - ‘UCI HAR Dataset.names’ saved [6304/6304]\n",
            "\n"
          ],
          "name": "stdout"
        }
      ]
    },
    {
      "metadata": {
        "id": "WFt3rhlzzJq-",
        "colab_type": "code",
        "colab": {
          "base_uri": "https://localhost:8080/",
          "height": 1292
        },
        "outputId": "6047b848-7bd6-4676-b645-8a786ad325e8"
      },
      "cell_type": "code",
      "source": [
        "!unzip \"/content/UCI HAR Dataset.zip\" -d \"/content\""
      ],
      "execution_count": 3,
      "outputs": [
        {
          "output_type": "stream",
          "text": [
            "Archive:  /content/UCI HAR Dataset.zip\n",
            "   creating: /content/UCI HAR Dataset/\n",
            "  inflating: /content/UCI HAR Dataset/.DS_Store  \n",
            "   creating: /content/__MACOSX/\n",
            "   creating: /content/__MACOSX/UCI HAR Dataset/\n",
            "  inflating: /content/__MACOSX/UCI HAR Dataset/._.DS_Store  \n",
            "  inflating: /content/UCI HAR Dataset/activity_labels.txt  \n",
            "  inflating: /content/__MACOSX/UCI HAR Dataset/._activity_labels.txt  \n",
            "  inflating: /content/UCI HAR Dataset/features.txt  \n",
            "  inflating: /content/__MACOSX/UCI HAR Dataset/._features.txt  \n",
            "  inflating: /content/UCI HAR Dataset/features_info.txt  \n",
            "  inflating: /content/__MACOSX/UCI HAR Dataset/._features_info.txt  \n",
            "  inflating: /content/UCI HAR Dataset/README.txt  \n",
            "  inflating: /content/__MACOSX/UCI HAR Dataset/._README.txt  \n",
            "   creating: /content/UCI HAR Dataset/test/\n",
            "   creating: /content/UCI HAR Dataset/test/Inertial Signals/\n",
            "  inflating: /content/UCI HAR Dataset/test/Inertial Signals/body_acc_x_test.txt  \n",
            "   creating: /content/__MACOSX/UCI HAR Dataset/test/\n",
            "   creating: /content/__MACOSX/UCI HAR Dataset/test/Inertial Signals/\n",
            "  inflating: /content/__MACOSX/UCI HAR Dataset/test/Inertial Signals/._body_acc_x_test.txt  \n",
            "  inflating: /content/UCI HAR Dataset/test/Inertial Signals/body_acc_y_test.txt  \n",
            "  inflating: /content/__MACOSX/UCI HAR Dataset/test/Inertial Signals/._body_acc_y_test.txt  \n",
            "  inflating: /content/UCI HAR Dataset/test/Inertial Signals/body_acc_z_test.txt  \n",
            "  inflating: /content/__MACOSX/UCI HAR Dataset/test/Inertial Signals/._body_acc_z_test.txt  \n",
            "  inflating: /content/UCI HAR Dataset/test/Inertial Signals/body_gyro_x_test.txt  \n",
            "  inflating: /content/__MACOSX/UCI HAR Dataset/test/Inertial Signals/._body_gyro_x_test.txt  \n",
            "  inflating: /content/UCI HAR Dataset/test/Inertial Signals/body_gyro_y_test.txt  \n",
            "  inflating: /content/__MACOSX/UCI HAR Dataset/test/Inertial Signals/._body_gyro_y_test.txt  \n",
            "  inflating: /content/UCI HAR Dataset/test/Inertial Signals/body_gyro_z_test.txt  \n",
            "  inflating: /content/__MACOSX/UCI HAR Dataset/test/Inertial Signals/._body_gyro_z_test.txt  \n",
            "  inflating: /content/UCI HAR Dataset/test/Inertial Signals/total_acc_x_test.txt  \n",
            "  inflating: /content/__MACOSX/UCI HAR Dataset/test/Inertial Signals/._total_acc_x_test.txt  \n",
            "  inflating: /content/UCI HAR Dataset/test/Inertial Signals/total_acc_y_test.txt  \n",
            "  inflating: /content/__MACOSX/UCI HAR Dataset/test/Inertial Signals/._total_acc_y_test.txt  \n",
            "  inflating: /content/UCI HAR Dataset/test/Inertial Signals/total_acc_z_test.txt  \n",
            "  inflating: /content/__MACOSX/UCI HAR Dataset/test/Inertial Signals/._total_acc_z_test.txt  \n",
            "  inflating: /content/__MACOSX/UCI HAR Dataset/test/._Inertial Signals  \n",
            "  inflating: /content/UCI HAR Dataset/test/subject_test.txt  \n",
            "  inflating: /content/__MACOSX/UCI HAR Dataset/test/._subject_test.txt  \n",
            "  inflating: /content/UCI HAR Dataset/test/X_test.txt  \n",
            "  inflating: /content/__MACOSX/UCI HAR Dataset/test/._X_test.txt  \n",
            "  inflating: /content/UCI HAR Dataset/test/y_test.txt  \n",
            "  inflating: /content/__MACOSX/UCI HAR Dataset/test/._y_test.txt  \n",
            "  inflating: /content/__MACOSX/UCI HAR Dataset/._test  \n",
            "   creating: /content/UCI HAR Dataset/train/\n",
            "   creating: /content/UCI HAR Dataset/train/Inertial Signals/\n",
            "  inflating: /content/UCI HAR Dataset/train/Inertial Signals/body_acc_x_train.txt  \n",
            "   creating: /content/__MACOSX/UCI HAR Dataset/train/\n",
            "   creating: /content/__MACOSX/UCI HAR Dataset/train/Inertial Signals/\n",
            "  inflating: /content/__MACOSX/UCI HAR Dataset/train/Inertial Signals/._body_acc_x_train.txt  \n",
            "  inflating: /content/UCI HAR Dataset/train/Inertial Signals/body_acc_y_train.txt  \n",
            "  inflating: /content/__MACOSX/UCI HAR Dataset/train/Inertial Signals/._body_acc_y_train.txt  \n",
            "  inflating: /content/UCI HAR Dataset/train/Inertial Signals/body_acc_z_train.txt  \n",
            "  inflating: /content/__MACOSX/UCI HAR Dataset/train/Inertial Signals/._body_acc_z_train.txt  \n",
            "  inflating: /content/UCI HAR Dataset/train/Inertial Signals/body_gyro_x_train.txt  \n",
            "  inflating: /content/__MACOSX/UCI HAR Dataset/train/Inertial Signals/._body_gyro_x_train.txt  \n",
            "  inflating: /content/UCI HAR Dataset/train/Inertial Signals/body_gyro_y_train.txt  \n",
            "  inflating: /content/__MACOSX/UCI HAR Dataset/train/Inertial Signals/._body_gyro_y_train.txt  \n",
            "  inflating: /content/UCI HAR Dataset/train/Inertial Signals/body_gyro_z_train.txt  \n",
            "  inflating: /content/__MACOSX/UCI HAR Dataset/train/Inertial Signals/._body_gyro_z_train.txt  \n",
            "  inflating: /content/UCI HAR Dataset/train/Inertial Signals/total_acc_x_train.txt  \n",
            "  inflating: /content/__MACOSX/UCI HAR Dataset/train/Inertial Signals/._total_acc_x_train.txt  \n",
            "  inflating: /content/UCI HAR Dataset/train/Inertial Signals/total_acc_y_train.txt  \n",
            "  inflating: /content/__MACOSX/UCI HAR Dataset/train/Inertial Signals/._total_acc_y_train.txt  \n",
            "  inflating: /content/UCI HAR Dataset/train/Inertial Signals/total_acc_z_train.txt  \n",
            "  inflating: /content/__MACOSX/UCI HAR Dataset/train/Inertial Signals/._total_acc_z_train.txt  \n",
            "  inflating: /content/__MACOSX/UCI HAR Dataset/train/._Inertial Signals  \n",
            "  inflating: /content/UCI HAR Dataset/train/subject_train.txt  \n",
            "  inflating: /content/__MACOSX/UCI HAR Dataset/train/._subject_train.txt  \n",
            "  inflating: /content/UCI HAR Dataset/train/X_train.txt  \n",
            "  inflating: /content/__MACOSX/UCI HAR Dataset/train/._X_train.txt  \n",
            "  inflating: /content/UCI HAR Dataset/train/y_train.txt  \n",
            "  inflating: /content/__MACOSX/UCI HAR Dataset/train/._y_train.txt  \n",
            "  inflating: /content/__MACOSX/UCI HAR Dataset/._train  \n",
            "  inflating: /content/__MACOSX/._UCI HAR Dataset  \n"
          ],
          "name": "stdout"
        }
      ]
    },
    {
      "metadata": {
        "id": "b_j1IIjiGb2_",
        "colab_type": "code",
        "colab": {}
      },
      "cell_type": "code",
      "source": [
        "#Reading the Feature files: As the to get the column name first \n",
        "#after reading the Readme text it has 561 unique feature \n",
        "## if you don replace it then unique feature is not 561 it comming out to be 477\n",
        "\n",
        "with open('/content/UCI HAR Dataset/features.txt', 'r') as file :\n",
        "  filedata = file.read()\n",
        "filedata = filedata.replace('\\n', '')\n",
        "with open('/content/UCI HAR Dataset/features1.txt', 'w') as file:\n",
        "  file.write(filedata)"
      ],
      "execution_count": 0,
      "outputs": []
    },
    {
      "metadata": {
        "id": "3l6sxwL1zVtP",
        "colab_type": "code",
        "colab": {}
      },
      "cell_type": "code",
      "source": [
        "import pandas as pd\n",
        "dfccxt=pd.read_csv('/content/UCI HAR Dataset/features1.txt',sep=\" \",error_bad_lines=False)"
      ],
      "execution_count": 0,
      "outputs": []
    },
    {
      "metadata": {
        "id": "TtAgi6fQLO4c",
        "colab_type": "code",
        "colab": {}
      },
      "cell_type": "code",
      "source": [
        "#header=dfccxt.iloc[0]\n",
        "#dfccxt =dfccxt[1:0]\n",
        "#dfccxt=dfccxt.rename(columns = header)"
      ],
      "execution_count": 0,
      "outputs": []
    },
    {
      "metadata": {
        "id": "fJvMHvFYLYjz",
        "colab_type": "code",
        "colab": {
          "base_uri": "https://localhost:8080/",
          "height": 115
        },
        "outputId": "80e47bb3-0bed-46a0-b346-e505bf504e89"
      },
      "cell_type": "code",
      "source": [
        "dfccxt.head() # we read successfully the features "
      ],
      "execution_count": 433,
      "outputs": [
        {
          "output_type": "execute_result",
          "data": {
            "text/html": [
              "<div>\n",
              "<style scoped>\n",
              "    .dataframe tbody tr th:only-of-type {\n",
              "        vertical-align: middle;\n",
              "    }\n",
              "\n",
              "    .dataframe tbody tr th {\n",
              "        vertical-align: top;\n",
              "    }\n",
              "\n",
              "    .dataframe thead th {\n",
              "        text-align: right;\n",
              "    }\n",
              "</style>\n",
              "<table border=\"1\" class=\"dataframe\">\n",
              "  <thead>\n",
              "    <tr style=\"text-align: right;\">\n",
              "      <th></th>\n",
              "      <th>1</th>\n",
              "      <th>tBodyAcc-mean()-X2</th>\n",
              "      <th>tBodyAcc-mean()-Y3</th>\n",
              "      <th>tBodyAcc-mean()-Z4</th>\n",
              "      <th>tBodyAcc-std()-X5</th>\n",
              "      <th>tBodyAcc-std()-Y6</th>\n",
              "      <th>tBodyAcc-std()-Z7</th>\n",
              "      <th>tBodyAcc-mad()-X8</th>\n",
              "      <th>tBodyAcc-mad()-Y9</th>\n",
              "      <th>tBodyAcc-mad()-Z10</th>\n",
              "      <th>...</th>\n",
              "      <th>fBodyBodyGyroJerkMag-meanFreq()553</th>\n",
              "      <th>fBodyBodyGyroJerkMag-skewness()554</th>\n",
              "      <th>fBodyBodyGyroJerkMag-kurtosis()555</th>\n",
              "      <th>angle(tBodyAccMean,gravity)556</th>\n",
              "      <th>angle(tBodyAccJerkMean),gravityMean)557</th>\n",
              "      <th>angle(tBodyGyroMean,gravityMean)558</th>\n",
              "      <th>angle(tBodyGyroJerkMean,gravityMean)559</th>\n",
              "      <th>angle(X,gravityMean)560</th>\n",
              "      <th>angle(Y,gravityMean)561</th>\n",
              "      <th>angle(Z,gravityMean)</th>\n",
              "    </tr>\n",
              "  </thead>\n",
              "  <tbody>\n",
              "  </tbody>\n",
              "</table>\n",
              "<p>0 rows × 562 columns</p>\n",
              "</div>"
            ],
            "text/plain": [
              "Empty DataFrame\n",
              "Columns: [1, tBodyAcc-mean()-X2, tBodyAcc-mean()-Y3, tBodyAcc-mean()-Z4, tBodyAcc-std()-X5, tBodyAcc-std()-Y6, tBodyAcc-std()-Z7, tBodyAcc-mad()-X8, tBodyAcc-mad()-Y9, tBodyAcc-mad()-Z10, tBodyAcc-max()-X11, tBodyAcc-max()-Y12, tBodyAcc-max()-Z13, tBodyAcc-min()-X14, tBodyAcc-min()-Y15, tBodyAcc-min()-Z16, tBodyAcc-sma()17, tBodyAcc-energy()-X18, tBodyAcc-energy()-Y19, tBodyAcc-energy()-Z20, tBodyAcc-iqr()-X21, tBodyAcc-iqr()-Y22, tBodyAcc-iqr()-Z23, tBodyAcc-entropy()-X24, tBodyAcc-entropy()-Y25, tBodyAcc-entropy()-Z26, tBodyAcc-arCoeff()-X,127, tBodyAcc-arCoeff()-X,228, tBodyAcc-arCoeff()-X,329, tBodyAcc-arCoeff()-X,430, tBodyAcc-arCoeff()-Y,131, tBodyAcc-arCoeff()-Y,232, tBodyAcc-arCoeff()-Y,333, tBodyAcc-arCoeff()-Y,434, tBodyAcc-arCoeff()-Z,135, tBodyAcc-arCoeff()-Z,236, tBodyAcc-arCoeff()-Z,337, tBodyAcc-arCoeff()-Z,438, tBodyAcc-correlation()-X,Y39, tBodyAcc-correlation()-X,Z40, tBodyAcc-correlation()-Y,Z41, tGravityAcc-mean()-X42, tGravityAcc-mean()-Y43, tGravityAcc-mean()-Z44, tGravityAcc-std()-X45, tGravityAcc-std()-Y46, tGravityAcc-std()-Z47, tGravityAcc-mad()-X48, tGravityAcc-mad()-Y49, tGravityAcc-mad()-Z50, tGravityAcc-max()-X51, tGravityAcc-max()-Y52, tGravityAcc-max()-Z53, tGravityAcc-min()-X54, tGravityAcc-min()-Y55, tGravityAcc-min()-Z56, tGravityAcc-sma()57, tGravityAcc-energy()-X58, tGravityAcc-energy()-Y59, tGravityAcc-energy()-Z60, tGravityAcc-iqr()-X61, tGravityAcc-iqr()-Y62, tGravityAcc-iqr()-Z63, tGravityAcc-entropy()-X64, tGravityAcc-entropy()-Y65, tGravityAcc-entropy()-Z66, tGravityAcc-arCoeff()-X,167, tGravityAcc-arCoeff()-X,268, tGravityAcc-arCoeff()-X,369, tGravityAcc-arCoeff()-X,470, tGravityAcc-arCoeff()-Y,171, tGravityAcc-arCoeff()-Y,272, tGravityAcc-arCoeff()-Y,373, tGravityAcc-arCoeff()-Y,474, tGravityAcc-arCoeff()-Z,175, tGravityAcc-arCoeff()-Z,276, tGravityAcc-arCoeff()-Z,377, tGravityAcc-arCoeff()-Z,478, tGravityAcc-correlation()-X,Y79, tGravityAcc-correlation()-X,Z80, tGravityAcc-correlation()-Y,Z81, tBodyAccJerk-mean()-X82, tBodyAccJerk-mean()-Y83, tBodyAccJerk-mean()-Z84, tBodyAccJerk-std()-X85, tBodyAccJerk-std()-Y86, tBodyAccJerk-std()-Z87, tBodyAccJerk-mad()-X88, tBodyAccJerk-mad()-Y89, tBodyAccJerk-mad()-Z90, tBodyAccJerk-max()-X91, tBodyAccJerk-max()-Y92, tBodyAccJerk-max()-Z93, tBodyAccJerk-min()-X94, tBodyAccJerk-min()-Y95, tBodyAccJerk-min()-Z96, tBodyAccJerk-sma()97, tBodyAccJerk-energy()-X98, tBodyAccJerk-energy()-Y99, tBodyAccJerk-energy()-Z100, ...]\n",
              "Index: []\n",
              "\n",
              "[0 rows x 562 columns]"
            ]
          },
          "metadata": {
            "tags": []
          },
          "execution_count": 433
        }
      ]
    },
    {
      "metadata": {
        "id": "0fw_I8ABcdPD",
        "colab_type": "code",
        "colab": {
          "base_uri": "https://localhost:8080/",
          "height": 9571
        },
        "outputId": "7ff12fce-bebf-4c09-8205-c7279ede1a26"
      },
      "cell_type": "code",
      "source": [
        "#code snippet to check the unique element.\n",
        "for col in dfccxt.columns:\n",
        "    print('{} unique element: {}'.format(col,dfccxt[col].nunique()))"
      ],
      "execution_count": 434,
      "outputs": [
        {
          "output_type": "stream",
          "text": [
            "1 unique element: 0\n",
            "tBodyAcc-mean()-X2 unique element: 0\n",
            "tBodyAcc-mean()-Y3 unique element: 0\n",
            "tBodyAcc-mean()-Z4 unique element: 0\n",
            "tBodyAcc-std()-X5 unique element: 0\n",
            "tBodyAcc-std()-Y6 unique element: 0\n",
            "tBodyAcc-std()-Z7 unique element: 0\n",
            "tBodyAcc-mad()-X8 unique element: 0\n",
            "tBodyAcc-mad()-Y9 unique element: 0\n",
            "tBodyAcc-mad()-Z10 unique element: 0\n",
            "tBodyAcc-max()-X11 unique element: 0\n",
            "tBodyAcc-max()-Y12 unique element: 0\n",
            "tBodyAcc-max()-Z13 unique element: 0\n",
            "tBodyAcc-min()-X14 unique element: 0\n",
            "tBodyAcc-min()-Y15 unique element: 0\n",
            "tBodyAcc-min()-Z16 unique element: 0\n",
            "tBodyAcc-sma()17 unique element: 0\n",
            "tBodyAcc-energy()-X18 unique element: 0\n",
            "tBodyAcc-energy()-Y19 unique element: 0\n",
            "tBodyAcc-energy()-Z20 unique element: 0\n",
            "tBodyAcc-iqr()-X21 unique element: 0\n",
            "tBodyAcc-iqr()-Y22 unique element: 0\n",
            "tBodyAcc-iqr()-Z23 unique element: 0\n",
            "tBodyAcc-entropy()-X24 unique element: 0\n",
            "tBodyAcc-entropy()-Y25 unique element: 0\n",
            "tBodyAcc-entropy()-Z26 unique element: 0\n",
            "tBodyAcc-arCoeff()-X,127 unique element: 0\n",
            "tBodyAcc-arCoeff()-X,228 unique element: 0\n",
            "tBodyAcc-arCoeff()-X,329 unique element: 0\n",
            "tBodyAcc-arCoeff()-X,430 unique element: 0\n",
            "tBodyAcc-arCoeff()-Y,131 unique element: 0\n",
            "tBodyAcc-arCoeff()-Y,232 unique element: 0\n",
            "tBodyAcc-arCoeff()-Y,333 unique element: 0\n",
            "tBodyAcc-arCoeff()-Y,434 unique element: 0\n",
            "tBodyAcc-arCoeff()-Z,135 unique element: 0\n",
            "tBodyAcc-arCoeff()-Z,236 unique element: 0\n",
            "tBodyAcc-arCoeff()-Z,337 unique element: 0\n",
            "tBodyAcc-arCoeff()-Z,438 unique element: 0\n",
            "tBodyAcc-correlation()-X,Y39 unique element: 0\n",
            "tBodyAcc-correlation()-X,Z40 unique element: 0\n",
            "tBodyAcc-correlation()-Y,Z41 unique element: 0\n",
            "tGravityAcc-mean()-X42 unique element: 0\n",
            "tGravityAcc-mean()-Y43 unique element: 0\n",
            "tGravityAcc-mean()-Z44 unique element: 0\n",
            "tGravityAcc-std()-X45 unique element: 0\n",
            "tGravityAcc-std()-Y46 unique element: 0\n",
            "tGravityAcc-std()-Z47 unique element: 0\n",
            "tGravityAcc-mad()-X48 unique element: 0\n",
            "tGravityAcc-mad()-Y49 unique element: 0\n",
            "tGravityAcc-mad()-Z50 unique element: 0\n",
            "tGravityAcc-max()-X51 unique element: 0\n",
            "tGravityAcc-max()-Y52 unique element: 0\n",
            "tGravityAcc-max()-Z53 unique element: 0\n",
            "tGravityAcc-min()-X54 unique element: 0\n",
            "tGravityAcc-min()-Y55 unique element: 0\n",
            "tGravityAcc-min()-Z56 unique element: 0\n",
            "tGravityAcc-sma()57 unique element: 0\n",
            "tGravityAcc-energy()-X58 unique element: 0\n",
            "tGravityAcc-energy()-Y59 unique element: 0\n",
            "tGravityAcc-energy()-Z60 unique element: 0\n",
            "tGravityAcc-iqr()-X61 unique element: 0\n",
            "tGravityAcc-iqr()-Y62 unique element: 0\n",
            "tGravityAcc-iqr()-Z63 unique element: 0\n",
            "tGravityAcc-entropy()-X64 unique element: 0\n",
            "tGravityAcc-entropy()-Y65 unique element: 0\n",
            "tGravityAcc-entropy()-Z66 unique element: 0\n",
            "tGravityAcc-arCoeff()-X,167 unique element: 0\n",
            "tGravityAcc-arCoeff()-X,268 unique element: 0\n",
            "tGravityAcc-arCoeff()-X,369 unique element: 0\n",
            "tGravityAcc-arCoeff()-X,470 unique element: 0\n",
            "tGravityAcc-arCoeff()-Y,171 unique element: 0\n",
            "tGravityAcc-arCoeff()-Y,272 unique element: 0\n",
            "tGravityAcc-arCoeff()-Y,373 unique element: 0\n",
            "tGravityAcc-arCoeff()-Y,474 unique element: 0\n",
            "tGravityAcc-arCoeff()-Z,175 unique element: 0\n",
            "tGravityAcc-arCoeff()-Z,276 unique element: 0\n",
            "tGravityAcc-arCoeff()-Z,377 unique element: 0\n",
            "tGravityAcc-arCoeff()-Z,478 unique element: 0\n",
            "tGravityAcc-correlation()-X,Y79 unique element: 0\n",
            "tGravityAcc-correlation()-X,Z80 unique element: 0\n",
            "tGravityAcc-correlation()-Y,Z81 unique element: 0\n",
            "tBodyAccJerk-mean()-X82 unique element: 0\n",
            "tBodyAccJerk-mean()-Y83 unique element: 0\n",
            "tBodyAccJerk-mean()-Z84 unique element: 0\n",
            "tBodyAccJerk-std()-X85 unique element: 0\n",
            "tBodyAccJerk-std()-Y86 unique element: 0\n",
            "tBodyAccJerk-std()-Z87 unique element: 0\n",
            "tBodyAccJerk-mad()-X88 unique element: 0\n",
            "tBodyAccJerk-mad()-Y89 unique element: 0\n",
            "tBodyAccJerk-mad()-Z90 unique element: 0\n",
            "tBodyAccJerk-max()-X91 unique element: 0\n",
            "tBodyAccJerk-max()-Y92 unique element: 0\n",
            "tBodyAccJerk-max()-Z93 unique element: 0\n",
            "tBodyAccJerk-min()-X94 unique element: 0\n",
            "tBodyAccJerk-min()-Y95 unique element: 0\n",
            "tBodyAccJerk-min()-Z96 unique element: 0\n",
            "tBodyAccJerk-sma()97 unique element: 0\n",
            "tBodyAccJerk-energy()-X98 unique element: 0\n",
            "tBodyAccJerk-energy()-Y99 unique element: 0\n",
            "tBodyAccJerk-energy()-Z100 unique element: 0\n",
            "tBodyAccJerk-iqr()-X101 unique element: 0\n",
            "tBodyAccJerk-iqr()-Y102 unique element: 0\n",
            "tBodyAccJerk-iqr()-Z103 unique element: 0\n",
            "tBodyAccJerk-entropy()-X104 unique element: 0\n",
            "tBodyAccJerk-entropy()-Y105 unique element: 0\n",
            "tBodyAccJerk-entropy()-Z106 unique element: 0\n",
            "tBodyAccJerk-arCoeff()-X,1107 unique element: 0\n",
            "tBodyAccJerk-arCoeff()-X,2108 unique element: 0\n",
            "tBodyAccJerk-arCoeff()-X,3109 unique element: 0\n",
            "tBodyAccJerk-arCoeff()-X,4110 unique element: 0\n",
            "tBodyAccJerk-arCoeff()-Y,1111 unique element: 0\n",
            "tBodyAccJerk-arCoeff()-Y,2112 unique element: 0\n",
            "tBodyAccJerk-arCoeff()-Y,3113 unique element: 0\n",
            "tBodyAccJerk-arCoeff()-Y,4114 unique element: 0\n",
            "tBodyAccJerk-arCoeff()-Z,1115 unique element: 0\n",
            "tBodyAccJerk-arCoeff()-Z,2116 unique element: 0\n",
            "tBodyAccJerk-arCoeff()-Z,3117 unique element: 0\n",
            "tBodyAccJerk-arCoeff()-Z,4118 unique element: 0\n",
            "tBodyAccJerk-correlation()-X,Y119 unique element: 0\n",
            "tBodyAccJerk-correlation()-X,Z120 unique element: 0\n",
            "tBodyAccJerk-correlation()-Y,Z121 unique element: 0\n",
            "tBodyGyro-mean()-X122 unique element: 0\n",
            "tBodyGyro-mean()-Y123 unique element: 0\n",
            "tBodyGyro-mean()-Z124 unique element: 0\n",
            "tBodyGyro-std()-X125 unique element: 0\n",
            "tBodyGyro-std()-Y126 unique element: 0\n",
            "tBodyGyro-std()-Z127 unique element: 0\n",
            "tBodyGyro-mad()-X128 unique element: 0\n",
            "tBodyGyro-mad()-Y129 unique element: 0\n",
            "tBodyGyro-mad()-Z130 unique element: 0\n",
            "tBodyGyro-max()-X131 unique element: 0\n",
            "tBodyGyro-max()-Y132 unique element: 0\n",
            "tBodyGyro-max()-Z133 unique element: 0\n",
            "tBodyGyro-min()-X134 unique element: 0\n",
            "tBodyGyro-min()-Y135 unique element: 0\n",
            "tBodyGyro-min()-Z136 unique element: 0\n",
            "tBodyGyro-sma()137 unique element: 0\n",
            "tBodyGyro-energy()-X138 unique element: 0\n",
            "tBodyGyro-energy()-Y139 unique element: 0\n",
            "tBodyGyro-energy()-Z140 unique element: 0\n",
            "tBodyGyro-iqr()-X141 unique element: 0\n",
            "tBodyGyro-iqr()-Y142 unique element: 0\n",
            "tBodyGyro-iqr()-Z143 unique element: 0\n",
            "tBodyGyro-entropy()-X144 unique element: 0\n",
            "tBodyGyro-entropy()-Y145 unique element: 0\n",
            "tBodyGyro-entropy()-Z146 unique element: 0\n",
            "tBodyGyro-arCoeff()-X,1147 unique element: 0\n",
            "tBodyGyro-arCoeff()-X,2148 unique element: 0\n",
            "tBodyGyro-arCoeff()-X,3149 unique element: 0\n",
            "tBodyGyro-arCoeff()-X,4150 unique element: 0\n",
            "tBodyGyro-arCoeff()-Y,1151 unique element: 0\n",
            "tBodyGyro-arCoeff()-Y,2152 unique element: 0\n",
            "tBodyGyro-arCoeff()-Y,3153 unique element: 0\n",
            "tBodyGyro-arCoeff()-Y,4154 unique element: 0\n",
            "tBodyGyro-arCoeff()-Z,1155 unique element: 0\n",
            "tBodyGyro-arCoeff()-Z,2156 unique element: 0\n",
            "tBodyGyro-arCoeff()-Z,3157 unique element: 0\n",
            "tBodyGyro-arCoeff()-Z,4158 unique element: 0\n",
            "tBodyGyro-correlation()-X,Y159 unique element: 0\n",
            "tBodyGyro-correlation()-X,Z160 unique element: 0\n",
            "tBodyGyro-correlation()-Y,Z161 unique element: 0\n",
            "tBodyGyroJerk-mean()-X162 unique element: 0\n",
            "tBodyGyroJerk-mean()-Y163 unique element: 0\n",
            "tBodyGyroJerk-mean()-Z164 unique element: 0\n",
            "tBodyGyroJerk-std()-X165 unique element: 0\n",
            "tBodyGyroJerk-std()-Y166 unique element: 0\n",
            "tBodyGyroJerk-std()-Z167 unique element: 0\n",
            "tBodyGyroJerk-mad()-X168 unique element: 0\n",
            "tBodyGyroJerk-mad()-Y169 unique element: 0\n",
            "tBodyGyroJerk-mad()-Z170 unique element: 0\n",
            "tBodyGyroJerk-max()-X171 unique element: 0\n",
            "tBodyGyroJerk-max()-Y172 unique element: 0\n",
            "tBodyGyroJerk-max()-Z173 unique element: 0\n",
            "tBodyGyroJerk-min()-X174 unique element: 0\n",
            "tBodyGyroJerk-min()-Y175 unique element: 0\n",
            "tBodyGyroJerk-min()-Z176 unique element: 0\n",
            "tBodyGyroJerk-sma()177 unique element: 0\n",
            "tBodyGyroJerk-energy()-X178 unique element: 0\n",
            "tBodyGyroJerk-energy()-Y179 unique element: 0\n",
            "tBodyGyroJerk-energy()-Z180 unique element: 0\n",
            "tBodyGyroJerk-iqr()-X181 unique element: 0\n",
            "tBodyGyroJerk-iqr()-Y182 unique element: 0\n",
            "tBodyGyroJerk-iqr()-Z183 unique element: 0\n",
            "tBodyGyroJerk-entropy()-X184 unique element: 0\n",
            "tBodyGyroJerk-entropy()-Y185 unique element: 0\n",
            "tBodyGyroJerk-entropy()-Z186 unique element: 0\n",
            "tBodyGyroJerk-arCoeff()-X,1187 unique element: 0\n",
            "tBodyGyroJerk-arCoeff()-X,2188 unique element: 0\n",
            "tBodyGyroJerk-arCoeff()-X,3189 unique element: 0\n",
            "tBodyGyroJerk-arCoeff()-X,4190 unique element: 0\n",
            "tBodyGyroJerk-arCoeff()-Y,1191 unique element: 0\n",
            "tBodyGyroJerk-arCoeff()-Y,2192 unique element: 0\n",
            "tBodyGyroJerk-arCoeff()-Y,3193 unique element: 0\n",
            "tBodyGyroJerk-arCoeff()-Y,4194 unique element: 0\n",
            "tBodyGyroJerk-arCoeff()-Z,1195 unique element: 0\n",
            "tBodyGyroJerk-arCoeff()-Z,2196 unique element: 0\n",
            "tBodyGyroJerk-arCoeff()-Z,3197 unique element: 0\n",
            "tBodyGyroJerk-arCoeff()-Z,4198 unique element: 0\n",
            "tBodyGyroJerk-correlation()-X,Y199 unique element: 0\n",
            "tBodyGyroJerk-correlation()-X,Z200 unique element: 0\n",
            "tBodyGyroJerk-correlation()-Y,Z201 unique element: 0\n",
            "tBodyAccMag-mean()202 unique element: 0\n",
            "tBodyAccMag-std()203 unique element: 0\n",
            "tBodyAccMag-mad()204 unique element: 0\n",
            "tBodyAccMag-max()205 unique element: 0\n",
            "tBodyAccMag-min()206 unique element: 0\n",
            "tBodyAccMag-sma()207 unique element: 0\n",
            "tBodyAccMag-energy()208 unique element: 0\n",
            "tBodyAccMag-iqr()209 unique element: 0\n",
            "tBodyAccMag-entropy()210 unique element: 0\n",
            "tBodyAccMag-arCoeff()1211 unique element: 0\n",
            "tBodyAccMag-arCoeff()2212 unique element: 0\n",
            "tBodyAccMag-arCoeff()3213 unique element: 0\n",
            "tBodyAccMag-arCoeff()4214 unique element: 0\n",
            "tGravityAccMag-mean()215 unique element: 0\n",
            "tGravityAccMag-std()216 unique element: 0\n",
            "tGravityAccMag-mad()217 unique element: 0\n",
            "tGravityAccMag-max()218 unique element: 0\n",
            "tGravityAccMag-min()219 unique element: 0\n",
            "tGravityAccMag-sma()220 unique element: 0\n",
            "tGravityAccMag-energy()221 unique element: 0\n",
            "tGravityAccMag-iqr()222 unique element: 0\n",
            "tGravityAccMag-entropy()223 unique element: 0\n",
            "tGravityAccMag-arCoeff()1224 unique element: 0\n",
            "tGravityAccMag-arCoeff()2225 unique element: 0\n",
            "tGravityAccMag-arCoeff()3226 unique element: 0\n",
            "tGravityAccMag-arCoeff()4227 unique element: 0\n",
            "tBodyAccJerkMag-mean()228 unique element: 0\n",
            "tBodyAccJerkMag-std()229 unique element: 0\n",
            "tBodyAccJerkMag-mad()230 unique element: 0\n",
            "tBodyAccJerkMag-max()231 unique element: 0\n",
            "tBodyAccJerkMag-min()232 unique element: 0\n",
            "tBodyAccJerkMag-sma()233 unique element: 0\n",
            "tBodyAccJerkMag-energy()234 unique element: 0\n",
            "tBodyAccJerkMag-iqr()235 unique element: 0\n",
            "tBodyAccJerkMag-entropy()236 unique element: 0\n",
            "tBodyAccJerkMag-arCoeff()1237 unique element: 0\n",
            "tBodyAccJerkMag-arCoeff()2238 unique element: 0\n",
            "tBodyAccJerkMag-arCoeff()3239 unique element: 0\n",
            "tBodyAccJerkMag-arCoeff()4240 unique element: 0\n",
            "tBodyGyroMag-mean()241 unique element: 0\n",
            "tBodyGyroMag-std()242 unique element: 0\n",
            "tBodyGyroMag-mad()243 unique element: 0\n",
            "tBodyGyroMag-max()244 unique element: 0\n",
            "tBodyGyroMag-min()245 unique element: 0\n",
            "tBodyGyroMag-sma()246 unique element: 0\n",
            "tBodyGyroMag-energy()247 unique element: 0\n",
            "tBodyGyroMag-iqr()248 unique element: 0\n",
            "tBodyGyroMag-entropy()249 unique element: 0\n",
            "tBodyGyroMag-arCoeff()1250 unique element: 0\n",
            "tBodyGyroMag-arCoeff()2251 unique element: 0\n",
            "tBodyGyroMag-arCoeff()3252 unique element: 0\n",
            "tBodyGyroMag-arCoeff()4253 unique element: 0\n",
            "tBodyGyroJerkMag-mean()254 unique element: 0\n",
            "tBodyGyroJerkMag-std()255 unique element: 0\n",
            "tBodyGyroJerkMag-mad()256 unique element: 0\n",
            "tBodyGyroJerkMag-max()257 unique element: 0\n",
            "tBodyGyroJerkMag-min()258 unique element: 0\n",
            "tBodyGyroJerkMag-sma()259 unique element: 0\n",
            "tBodyGyroJerkMag-energy()260 unique element: 0\n",
            "tBodyGyroJerkMag-iqr()261 unique element: 0\n",
            "tBodyGyroJerkMag-entropy()262 unique element: 0\n",
            "tBodyGyroJerkMag-arCoeff()1263 unique element: 0\n",
            "tBodyGyroJerkMag-arCoeff()2264 unique element: 0\n",
            "tBodyGyroJerkMag-arCoeff()3265 unique element: 0\n",
            "tBodyGyroJerkMag-arCoeff()4266 unique element: 0\n",
            "fBodyAcc-mean()-X267 unique element: 0\n",
            "fBodyAcc-mean()-Y268 unique element: 0\n",
            "fBodyAcc-mean()-Z269 unique element: 0\n",
            "fBodyAcc-std()-X270 unique element: 0\n",
            "fBodyAcc-std()-Y271 unique element: 0\n",
            "fBodyAcc-std()-Z272 unique element: 0\n",
            "fBodyAcc-mad()-X273 unique element: 0\n",
            "fBodyAcc-mad()-Y274 unique element: 0\n",
            "fBodyAcc-mad()-Z275 unique element: 0\n",
            "fBodyAcc-max()-X276 unique element: 0\n",
            "fBodyAcc-max()-Y277 unique element: 0\n",
            "fBodyAcc-max()-Z278 unique element: 0\n",
            "fBodyAcc-min()-X279 unique element: 0\n",
            "fBodyAcc-min()-Y280 unique element: 0\n",
            "fBodyAcc-min()-Z281 unique element: 0\n",
            "fBodyAcc-sma()282 unique element: 0\n",
            "fBodyAcc-energy()-X283 unique element: 0\n",
            "fBodyAcc-energy()-Y284 unique element: 0\n",
            "fBodyAcc-energy()-Z285 unique element: 0\n",
            "fBodyAcc-iqr()-X286 unique element: 0\n",
            "fBodyAcc-iqr()-Y287 unique element: 0\n",
            "fBodyAcc-iqr()-Z288 unique element: 0\n",
            "fBodyAcc-entropy()-X289 unique element: 0\n",
            "fBodyAcc-entropy()-Y290 unique element: 0\n",
            "fBodyAcc-entropy()-Z291 unique element: 0\n",
            "fBodyAcc-maxInds-X292 unique element: 0\n",
            "fBodyAcc-maxInds-Y293 unique element: 0\n",
            "fBodyAcc-maxInds-Z294 unique element: 0\n",
            "fBodyAcc-meanFreq()-X295 unique element: 0\n",
            "fBodyAcc-meanFreq()-Y296 unique element: 0\n",
            "fBodyAcc-meanFreq()-Z297 unique element: 0\n",
            "fBodyAcc-skewness()-X298 unique element: 0\n",
            "fBodyAcc-kurtosis()-X299 unique element: 0\n",
            "fBodyAcc-skewness()-Y300 unique element: 0\n",
            "fBodyAcc-kurtosis()-Y301 unique element: 0\n",
            "fBodyAcc-skewness()-Z302 unique element: 0\n",
            "fBodyAcc-kurtosis()-Z303 unique element: 0\n",
            "fBodyAcc-bandsEnergy()-1,8304 unique element: 0\n",
            "fBodyAcc-bandsEnergy()-9,16305 unique element: 0\n",
            "fBodyAcc-bandsEnergy()-17,24306 unique element: 0\n",
            "fBodyAcc-bandsEnergy()-25,32307 unique element: 0\n",
            "fBodyAcc-bandsEnergy()-33,40308 unique element: 0\n",
            "fBodyAcc-bandsEnergy()-41,48309 unique element: 0\n",
            "fBodyAcc-bandsEnergy()-49,56310 unique element: 0\n",
            "fBodyAcc-bandsEnergy()-57,64311 unique element: 0\n",
            "fBodyAcc-bandsEnergy()-1,16312 unique element: 0\n",
            "fBodyAcc-bandsEnergy()-17,32313 unique element: 0\n",
            "fBodyAcc-bandsEnergy()-33,48314 unique element: 0\n",
            "fBodyAcc-bandsEnergy()-49,64315 unique element: 0\n",
            "fBodyAcc-bandsEnergy()-1,24316 unique element: 0\n",
            "fBodyAcc-bandsEnergy()-25,48317 unique element: 0\n",
            "fBodyAcc-bandsEnergy()-1,8318 unique element: 0\n",
            "fBodyAcc-bandsEnergy()-9,16319 unique element: 0\n",
            "fBodyAcc-bandsEnergy()-17,24320 unique element: 0\n",
            "fBodyAcc-bandsEnergy()-25,32321 unique element: 0\n",
            "fBodyAcc-bandsEnergy()-33,40322 unique element: 0\n",
            "fBodyAcc-bandsEnergy()-41,48323 unique element: 0\n",
            "fBodyAcc-bandsEnergy()-49,56324 unique element: 0\n",
            "fBodyAcc-bandsEnergy()-57,64325 unique element: 0\n",
            "fBodyAcc-bandsEnergy()-1,16326 unique element: 0\n",
            "fBodyAcc-bandsEnergy()-17,32327 unique element: 0\n",
            "fBodyAcc-bandsEnergy()-33,48328 unique element: 0\n",
            "fBodyAcc-bandsEnergy()-49,64329 unique element: 0\n",
            "fBodyAcc-bandsEnergy()-1,24330 unique element: 0\n",
            "fBodyAcc-bandsEnergy()-25,48331 unique element: 0\n",
            "fBodyAcc-bandsEnergy()-1,8332 unique element: 0\n",
            "fBodyAcc-bandsEnergy()-9,16333 unique element: 0\n",
            "fBodyAcc-bandsEnergy()-17,24334 unique element: 0\n",
            "fBodyAcc-bandsEnergy()-25,32335 unique element: 0\n",
            "fBodyAcc-bandsEnergy()-33,40336 unique element: 0\n",
            "fBodyAcc-bandsEnergy()-41,48337 unique element: 0\n",
            "fBodyAcc-bandsEnergy()-49,56338 unique element: 0\n",
            "fBodyAcc-bandsEnergy()-57,64339 unique element: 0\n",
            "fBodyAcc-bandsEnergy()-1,16340 unique element: 0\n",
            "fBodyAcc-bandsEnergy()-17,32341 unique element: 0\n",
            "fBodyAcc-bandsEnergy()-33,48342 unique element: 0\n",
            "fBodyAcc-bandsEnergy()-49,64343 unique element: 0\n",
            "fBodyAcc-bandsEnergy()-1,24344 unique element: 0\n",
            "fBodyAcc-bandsEnergy()-25,48345 unique element: 0\n",
            "fBodyAccJerk-mean()-X346 unique element: 0\n",
            "fBodyAccJerk-mean()-Y347 unique element: 0\n",
            "fBodyAccJerk-mean()-Z348 unique element: 0\n",
            "fBodyAccJerk-std()-X349 unique element: 0\n",
            "fBodyAccJerk-std()-Y350 unique element: 0\n",
            "fBodyAccJerk-std()-Z351 unique element: 0\n",
            "fBodyAccJerk-mad()-X352 unique element: 0\n",
            "fBodyAccJerk-mad()-Y353 unique element: 0\n",
            "fBodyAccJerk-mad()-Z354 unique element: 0\n",
            "fBodyAccJerk-max()-X355 unique element: 0\n",
            "fBodyAccJerk-max()-Y356 unique element: 0\n",
            "fBodyAccJerk-max()-Z357 unique element: 0\n",
            "fBodyAccJerk-min()-X358 unique element: 0\n",
            "fBodyAccJerk-min()-Y359 unique element: 0\n",
            "fBodyAccJerk-min()-Z360 unique element: 0\n",
            "fBodyAccJerk-sma()361 unique element: 0\n",
            "fBodyAccJerk-energy()-X362 unique element: 0\n",
            "fBodyAccJerk-energy()-Y363 unique element: 0\n",
            "fBodyAccJerk-energy()-Z364 unique element: 0\n",
            "fBodyAccJerk-iqr()-X365 unique element: 0\n",
            "fBodyAccJerk-iqr()-Y366 unique element: 0\n",
            "fBodyAccJerk-iqr()-Z367 unique element: 0\n",
            "fBodyAccJerk-entropy()-X368 unique element: 0\n",
            "fBodyAccJerk-entropy()-Y369 unique element: 0\n",
            "fBodyAccJerk-entropy()-Z370 unique element: 0\n",
            "fBodyAccJerk-maxInds-X371 unique element: 0\n",
            "fBodyAccJerk-maxInds-Y372 unique element: 0\n",
            "fBodyAccJerk-maxInds-Z373 unique element: 0\n",
            "fBodyAccJerk-meanFreq()-X374 unique element: 0\n",
            "fBodyAccJerk-meanFreq()-Y375 unique element: 0\n",
            "fBodyAccJerk-meanFreq()-Z376 unique element: 0\n",
            "fBodyAccJerk-skewness()-X377 unique element: 0\n",
            "fBodyAccJerk-kurtosis()-X378 unique element: 0\n",
            "fBodyAccJerk-skewness()-Y379 unique element: 0\n",
            "fBodyAccJerk-kurtosis()-Y380 unique element: 0\n",
            "fBodyAccJerk-skewness()-Z381 unique element: 0\n",
            "fBodyAccJerk-kurtosis()-Z382 unique element: 0\n",
            "fBodyAccJerk-bandsEnergy()-1,8383 unique element: 0\n",
            "fBodyAccJerk-bandsEnergy()-9,16384 unique element: 0\n",
            "fBodyAccJerk-bandsEnergy()-17,24385 unique element: 0\n",
            "fBodyAccJerk-bandsEnergy()-25,32386 unique element: 0\n",
            "fBodyAccJerk-bandsEnergy()-33,40387 unique element: 0\n",
            "fBodyAccJerk-bandsEnergy()-41,48388 unique element: 0\n",
            "fBodyAccJerk-bandsEnergy()-49,56389 unique element: 0\n",
            "fBodyAccJerk-bandsEnergy()-57,64390 unique element: 0\n",
            "fBodyAccJerk-bandsEnergy()-1,16391 unique element: 0\n",
            "fBodyAccJerk-bandsEnergy()-17,32392 unique element: 0\n",
            "fBodyAccJerk-bandsEnergy()-33,48393 unique element: 0\n",
            "fBodyAccJerk-bandsEnergy()-49,64394 unique element: 0\n",
            "fBodyAccJerk-bandsEnergy()-1,24395 unique element: 0\n",
            "fBodyAccJerk-bandsEnergy()-25,48396 unique element: 0\n",
            "fBodyAccJerk-bandsEnergy()-1,8397 unique element: 0\n",
            "fBodyAccJerk-bandsEnergy()-9,16398 unique element: 0\n",
            "fBodyAccJerk-bandsEnergy()-17,24399 unique element: 0\n",
            "fBodyAccJerk-bandsEnergy()-25,32400 unique element: 0\n",
            "fBodyAccJerk-bandsEnergy()-33,40401 unique element: 0\n",
            "fBodyAccJerk-bandsEnergy()-41,48402 unique element: 0\n",
            "fBodyAccJerk-bandsEnergy()-49,56403 unique element: 0\n",
            "fBodyAccJerk-bandsEnergy()-57,64404 unique element: 0\n",
            "fBodyAccJerk-bandsEnergy()-1,16405 unique element: 0\n",
            "fBodyAccJerk-bandsEnergy()-17,32406 unique element: 0\n",
            "fBodyAccJerk-bandsEnergy()-33,48407 unique element: 0\n",
            "fBodyAccJerk-bandsEnergy()-49,64408 unique element: 0\n",
            "fBodyAccJerk-bandsEnergy()-1,24409 unique element: 0\n",
            "fBodyAccJerk-bandsEnergy()-25,48410 unique element: 0\n",
            "fBodyAccJerk-bandsEnergy()-1,8411 unique element: 0\n",
            "fBodyAccJerk-bandsEnergy()-9,16412 unique element: 0\n",
            "fBodyAccJerk-bandsEnergy()-17,24413 unique element: 0\n",
            "fBodyAccJerk-bandsEnergy()-25,32414 unique element: 0\n",
            "fBodyAccJerk-bandsEnergy()-33,40415 unique element: 0\n",
            "fBodyAccJerk-bandsEnergy()-41,48416 unique element: 0\n",
            "fBodyAccJerk-bandsEnergy()-49,56417 unique element: 0\n",
            "fBodyAccJerk-bandsEnergy()-57,64418 unique element: 0\n",
            "fBodyAccJerk-bandsEnergy()-1,16419 unique element: 0\n",
            "fBodyAccJerk-bandsEnergy()-17,32420 unique element: 0\n",
            "fBodyAccJerk-bandsEnergy()-33,48421 unique element: 0\n",
            "fBodyAccJerk-bandsEnergy()-49,64422 unique element: 0\n",
            "fBodyAccJerk-bandsEnergy()-1,24423 unique element: 0\n",
            "fBodyAccJerk-bandsEnergy()-25,48424 unique element: 0\n",
            "fBodyGyro-mean()-X425 unique element: 0\n",
            "fBodyGyro-mean()-Y426 unique element: 0\n",
            "fBodyGyro-mean()-Z427 unique element: 0\n",
            "fBodyGyro-std()-X428 unique element: 0\n",
            "fBodyGyro-std()-Y429 unique element: 0\n",
            "fBodyGyro-std()-Z430 unique element: 0\n",
            "fBodyGyro-mad()-X431 unique element: 0\n",
            "fBodyGyro-mad()-Y432 unique element: 0\n",
            "fBodyGyro-mad()-Z433 unique element: 0\n",
            "fBodyGyro-max()-X434 unique element: 0\n",
            "fBodyGyro-max()-Y435 unique element: 0\n",
            "fBodyGyro-max()-Z436 unique element: 0\n",
            "fBodyGyro-min()-X437 unique element: 0\n",
            "fBodyGyro-min()-Y438 unique element: 0\n",
            "fBodyGyro-min()-Z439 unique element: 0\n",
            "fBodyGyro-sma()440 unique element: 0\n",
            "fBodyGyro-energy()-X441 unique element: 0\n",
            "fBodyGyro-energy()-Y442 unique element: 0\n",
            "fBodyGyro-energy()-Z443 unique element: 0\n",
            "fBodyGyro-iqr()-X444 unique element: 0\n",
            "fBodyGyro-iqr()-Y445 unique element: 0\n",
            "fBodyGyro-iqr()-Z446 unique element: 0\n",
            "fBodyGyro-entropy()-X447 unique element: 0\n",
            "fBodyGyro-entropy()-Y448 unique element: 0\n",
            "fBodyGyro-entropy()-Z449 unique element: 0\n",
            "fBodyGyro-maxInds-X450 unique element: 0\n",
            "fBodyGyro-maxInds-Y451 unique element: 0\n",
            "fBodyGyro-maxInds-Z452 unique element: 0\n",
            "fBodyGyro-meanFreq()-X453 unique element: 0\n",
            "fBodyGyro-meanFreq()-Y454 unique element: 0\n",
            "fBodyGyro-meanFreq()-Z455 unique element: 0\n",
            "fBodyGyro-skewness()-X456 unique element: 0\n",
            "fBodyGyro-kurtosis()-X457 unique element: 0\n",
            "fBodyGyro-skewness()-Y458 unique element: 0\n",
            "fBodyGyro-kurtosis()-Y459 unique element: 0\n",
            "fBodyGyro-skewness()-Z460 unique element: 0\n",
            "fBodyGyro-kurtosis()-Z461 unique element: 0\n",
            "fBodyGyro-bandsEnergy()-1,8462 unique element: 0\n",
            "fBodyGyro-bandsEnergy()-9,16463 unique element: 0\n",
            "fBodyGyro-bandsEnergy()-17,24464 unique element: 0\n",
            "fBodyGyro-bandsEnergy()-25,32465 unique element: 0\n",
            "fBodyGyro-bandsEnergy()-33,40466 unique element: 0\n",
            "fBodyGyro-bandsEnergy()-41,48467 unique element: 0\n",
            "fBodyGyro-bandsEnergy()-49,56468 unique element: 0\n",
            "fBodyGyro-bandsEnergy()-57,64469 unique element: 0\n",
            "fBodyGyro-bandsEnergy()-1,16470 unique element: 0\n",
            "fBodyGyro-bandsEnergy()-17,32471 unique element: 0\n",
            "fBodyGyro-bandsEnergy()-33,48472 unique element: 0\n",
            "fBodyGyro-bandsEnergy()-49,64473 unique element: 0\n",
            "fBodyGyro-bandsEnergy()-1,24474 unique element: 0\n",
            "fBodyGyro-bandsEnergy()-25,48475 unique element: 0\n",
            "fBodyGyro-bandsEnergy()-1,8476 unique element: 0\n",
            "fBodyGyro-bandsEnergy()-9,16477 unique element: 0\n",
            "fBodyGyro-bandsEnergy()-17,24478 unique element: 0\n",
            "fBodyGyro-bandsEnergy()-25,32479 unique element: 0\n",
            "fBodyGyro-bandsEnergy()-33,40480 unique element: 0\n",
            "fBodyGyro-bandsEnergy()-41,48481 unique element: 0\n",
            "fBodyGyro-bandsEnergy()-49,56482 unique element: 0\n",
            "fBodyGyro-bandsEnergy()-57,64483 unique element: 0\n",
            "fBodyGyro-bandsEnergy()-1,16484 unique element: 0\n",
            "fBodyGyro-bandsEnergy()-17,32485 unique element: 0\n",
            "fBodyGyro-bandsEnergy()-33,48486 unique element: 0\n",
            "fBodyGyro-bandsEnergy()-49,64487 unique element: 0\n",
            "fBodyGyro-bandsEnergy()-1,24488 unique element: 0\n",
            "fBodyGyro-bandsEnergy()-25,48489 unique element: 0\n",
            "fBodyGyro-bandsEnergy()-1,8490 unique element: 0\n",
            "fBodyGyro-bandsEnergy()-9,16491 unique element: 0\n",
            "fBodyGyro-bandsEnergy()-17,24492 unique element: 0\n",
            "fBodyGyro-bandsEnergy()-25,32493 unique element: 0\n",
            "fBodyGyro-bandsEnergy()-33,40494 unique element: 0\n",
            "fBodyGyro-bandsEnergy()-41,48495 unique element: 0\n",
            "fBodyGyro-bandsEnergy()-49,56496 unique element: 0\n",
            "fBodyGyro-bandsEnergy()-57,64497 unique element: 0\n",
            "fBodyGyro-bandsEnergy()-1,16498 unique element: 0\n",
            "fBodyGyro-bandsEnergy()-17,32499 unique element: 0\n",
            "fBodyGyro-bandsEnergy()-33,48500 unique element: 0\n",
            "fBodyGyro-bandsEnergy()-49,64501 unique element: 0\n",
            "fBodyGyro-bandsEnergy()-1,24502 unique element: 0\n",
            "fBodyGyro-bandsEnergy()-25,48503 unique element: 0\n",
            "fBodyAccMag-mean()504 unique element: 0\n",
            "fBodyAccMag-std()505 unique element: 0\n",
            "fBodyAccMag-mad()506 unique element: 0\n",
            "fBodyAccMag-max()507 unique element: 0\n",
            "fBodyAccMag-min()508 unique element: 0\n",
            "fBodyAccMag-sma()509 unique element: 0\n",
            "fBodyAccMag-energy()510 unique element: 0\n",
            "fBodyAccMag-iqr()511 unique element: 0\n",
            "fBodyAccMag-entropy()512 unique element: 0\n",
            "fBodyAccMag-maxInds513 unique element: 0\n",
            "fBodyAccMag-meanFreq()514 unique element: 0\n",
            "fBodyAccMag-skewness()515 unique element: 0\n",
            "fBodyAccMag-kurtosis()516 unique element: 0\n",
            "fBodyBodyAccJerkMag-mean()517 unique element: 0\n",
            "fBodyBodyAccJerkMag-std()518 unique element: 0\n",
            "fBodyBodyAccJerkMag-mad()519 unique element: 0\n",
            "fBodyBodyAccJerkMag-max()520 unique element: 0\n",
            "fBodyBodyAccJerkMag-min()521 unique element: 0\n",
            "fBodyBodyAccJerkMag-sma()522 unique element: 0\n",
            "fBodyBodyAccJerkMag-energy()523 unique element: 0\n",
            "fBodyBodyAccJerkMag-iqr()524 unique element: 0\n",
            "fBodyBodyAccJerkMag-entropy()525 unique element: 0\n",
            "fBodyBodyAccJerkMag-maxInds526 unique element: 0\n",
            "fBodyBodyAccJerkMag-meanFreq()527 unique element: 0\n",
            "fBodyBodyAccJerkMag-skewness()528 unique element: 0\n",
            "fBodyBodyAccJerkMag-kurtosis()529 unique element: 0\n",
            "fBodyBodyGyroMag-mean()530 unique element: 0\n",
            "fBodyBodyGyroMag-std()531 unique element: 0\n",
            "fBodyBodyGyroMag-mad()532 unique element: 0\n",
            "fBodyBodyGyroMag-max()533 unique element: 0\n",
            "fBodyBodyGyroMag-min()534 unique element: 0\n",
            "fBodyBodyGyroMag-sma()535 unique element: 0\n",
            "fBodyBodyGyroMag-energy()536 unique element: 0\n",
            "fBodyBodyGyroMag-iqr()537 unique element: 0\n",
            "fBodyBodyGyroMag-entropy()538 unique element: 0\n",
            "fBodyBodyGyroMag-maxInds539 unique element: 0\n",
            "fBodyBodyGyroMag-meanFreq()540 unique element: 0\n",
            "fBodyBodyGyroMag-skewness()541 unique element: 0\n",
            "fBodyBodyGyroMag-kurtosis()542 unique element: 0\n",
            "fBodyBodyGyroJerkMag-mean()543 unique element: 0\n",
            "fBodyBodyGyroJerkMag-std()544 unique element: 0\n",
            "fBodyBodyGyroJerkMag-mad()545 unique element: 0\n",
            "fBodyBodyGyroJerkMag-max()546 unique element: 0\n",
            "fBodyBodyGyroJerkMag-min()547 unique element: 0\n",
            "fBodyBodyGyroJerkMag-sma()548 unique element: 0\n",
            "fBodyBodyGyroJerkMag-energy()549 unique element: 0\n",
            "fBodyBodyGyroJerkMag-iqr()550 unique element: 0\n",
            "fBodyBodyGyroJerkMag-entropy()551 unique element: 0\n",
            "fBodyBodyGyroJerkMag-maxInds552 unique element: 0\n",
            "fBodyBodyGyroJerkMag-meanFreq()553 unique element: 0\n",
            "fBodyBodyGyroJerkMag-skewness()554 unique element: 0\n",
            "fBodyBodyGyroJerkMag-kurtosis()555 unique element: 0\n",
            "angle(tBodyAccMean,gravity)556 unique element: 0\n",
            "angle(tBodyAccJerkMean),gravityMean)557 unique element: 0\n",
            "angle(tBodyGyroMean,gravityMean)558 unique element: 0\n",
            "angle(tBodyGyroJerkMean,gravityMean)559 unique element: 0\n",
            "angle(X,gravityMean)560 unique element: 0\n",
            "angle(Y,gravityMean)561 unique element: 0\n",
            "angle(Z,gravityMean) unique element: 0\n"
          ],
          "name": "stdout"
        }
      ]
    },
    {
      "metadata": {
        "id": "aHfZa97xT-Ks",
        "colab_type": "code",
        "colab": {}
      },
      "cell_type": "code",
      "source": [
        "#reading the training the data.\n",
        "import numpy as np\n",
        "with open('/content/UCI HAR Dataset/train/X_train.txt', 'r') as file :\n",
        "  filedata = file.read()\n",
        "word=filedata.split()"
      ],
      "execution_count": 0,
      "outputs": []
    },
    {
      "metadata": {
        "id": "lTCOcpYvEiBS",
        "colab_type": "code",
        "colab": {
          "base_uri": "https://localhost:8080/",
          "height": 34
        },
        "outputId": "8ea0ac84-f31d-4feb-dd5e-76561d833fd0"
      },
      "cell_type": "code",
      "source": [
        "#As this is must be a list of one dimention we need to convert it into two dimension with 561 features\n",
        "4124472/561"
      ],
      "execution_count": 18,
      "outputs": [
        {
          "output_type": "execute_result",
          "data": {
            "text/plain": [
              "7352.0"
            ]
          },
          "metadata": {
            "tags": []
          },
          "execution_count": 18
        }
      ]
    },
    {
      "metadata": {
        "id": "5XSoTPUIFZ1j",
        "colab_type": "code",
        "colab": {}
      },
      "cell_type": "code",
      "source": [
        "#There might be somebetter technique to modify the dimention we can do this is noob technique.first we convert it into array\n",
        "#and convert all the value to float \n",
        "word=np.asarray(word).astype(float)"
      ],
      "execution_count": 0,
      "outputs": []
    },
    {
      "metadata": {
        "id": "pk1vNsdvNjCp",
        "colab_type": "code",
        "colab": {}
      },
      "cell_type": "code",
      "source": [
        "#reshape it with desired dimention \n",
        "word=word.reshape(7352,561)"
      ],
      "execution_count": 0,
      "outputs": []
    },
    {
      "metadata": {
        "id": "-zUy4WuNGQGb",
        "colab_type": "code",
        "colab": {}
      },
      "cell_type": "code",
      "source": [
        "#converting to Dataframe \n",
        "word= pd.DataFrame(word)"
      ],
      "execution_count": 0,
      "outputs": []
    },
    {
      "metadata": {
        "id": "spEkVaXaNvZI",
        "colab_type": "code",
        "colab": {
          "base_uri": "https://localhost:8080/",
          "height": 34
        },
        "outputId": "63b5e3a3-c8c2-49ce-b2cb-bb99437379f0"
      },
      "cell_type": "code",
      "source": [
        "word.shape"
      ],
      "execution_count": 439,
      "outputs": [
        {
          "output_type": "execute_result",
          "data": {
            "text/plain": [
              "(7352, 561)"
            ]
          },
          "metadata": {
            "tags": []
          },
          "execution_count": 439
        }
      ]
    },
    {
      "metadata": {
        "id": "y8PTMy_cFQb3",
        "colab_type": "code",
        "colab": {
          "base_uri": "https://localhost:8080/",
          "height": 253
        },
        "outputId": "93d8fbc9-1441-44c1-e07d-93b054f48417"
      },
      "cell_type": "code",
      "source": [
        "word.head()"
      ],
      "execution_count": 440,
      "outputs": [
        {
          "output_type": "execute_result",
          "data": {
            "text/html": [
              "<div>\n",
              "<style scoped>\n",
              "    .dataframe tbody tr th:only-of-type {\n",
              "        vertical-align: middle;\n",
              "    }\n",
              "\n",
              "    .dataframe tbody tr th {\n",
              "        vertical-align: top;\n",
              "    }\n",
              "\n",
              "    .dataframe thead th {\n",
              "        text-align: right;\n",
              "    }\n",
              "</style>\n",
              "<table border=\"1\" class=\"dataframe\">\n",
              "  <thead>\n",
              "    <tr style=\"text-align: right;\">\n",
              "      <th></th>\n",
              "      <th>0</th>\n",
              "      <th>1</th>\n",
              "      <th>2</th>\n",
              "      <th>3</th>\n",
              "      <th>4</th>\n",
              "      <th>5</th>\n",
              "      <th>6</th>\n",
              "      <th>7</th>\n",
              "      <th>8</th>\n",
              "      <th>9</th>\n",
              "      <th>...</th>\n",
              "      <th>551</th>\n",
              "      <th>552</th>\n",
              "      <th>553</th>\n",
              "      <th>554</th>\n",
              "      <th>555</th>\n",
              "      <th>556</th>\n",
              "      <th>557</th>\n",
              "      <th>558</th>\n",
              "      <th>559</th>\n",
              "      <th>560</th>\n",
              "    </tr>\n",
              "  </thead>\n",
              "  <tbody>\n",
              "    <tr>\n",
              "      <th>0</th>\n",
              "      <td>0.288585</td>\n",
              "      <td>-0.020294</td>\n",
              "      <td>-0.132905</td>\n",
              "      <td>-0.995279</td>\n",
              "      <td>-0.983111</td>\n",
              "      <td>-0.913526</td>\n",
              "      <td>-0.995112</td>\n",
              "      <td>-0.983185</td>\n",
              "      <td>-0.923527</td>\n",
              "      <td>-0.934724</td>\n",
              "      <td>...</td>\n",
              "      <td>-0.074323</td>\n",
              "      <td>-0.298676</td>\n",
              "      <td>-0.710304</td>\n",
              "      <td>-0.112754</td>\n",
              "      <td>0.030400</td>\n",
              "      <td>-0.464761</td>\n",
              "      <td>-0.018446</td>\n",
              "      <td>-0.841247</td>\n",
              "      <td>0.179941</td>\n",
              "      <td>-0.058627</td>\n",
              "    </tr>\n",
              "    <tr>\n",
              "      <th>1</th>\n",
              "      <td>0.278419</td>\n",
              "      <td>-0.016411</td>\n",
              "      <td>-0.123520</td>\n",
              "      <td>-0.998245</td>\n",
              "      <td>-0.975300</td>\n",
              "      <td>-0.960322</td>\n",
              "      <td>-0.998807</td>\n",
              "      <td>-0.974914</td>\n",
              "      <td>-0.957686</td>\n",
              "      <td>-0.943068</td>\n",
              "      <td>...</td>\n",
              "      <td>0.158075</td>\n",
              "      <td>-0.595051</td>\n",
              "      <td>-0.861499</td>\n",
              "      <td>0.053477</td>\n",
              "      <td>-0.007435</td>\n",
              "      <td>-0.732626</td>\n",
              "      <td>0.703511</td>\n",
              "      <td>-0.844788</td>\n",
              "      <td>0.180289</td>\n",
              "      <td>-0.054317</td>\n",
              "    </tr>\n",
              "    <tr>\n",
              "      <th>2</th>\n",
              "      <td>0.279653</td>\n",
              "      <td>-0.019467</td>\n",
              "      <td>-0.113462</td>\n",
              "      <td>-0.995380</td>\n",
              "      <td>-0.967187</td>\n",
              "      <td>-0.978944</td>\n",
              "      <td>-0.996520</td>\n",
              "      <td>-0.963668</td>\n",
              "      <td>-0.977469</td>\n",
              "      <td>-0.938692</td>\n",
              "      <td>...</td>\n",
              "      <td>0.414503</td>\n",
              "      <td>-0.390748</td>\n",
              "      <td>-0.760104</td>\n",
              "      <td>-0.118559</td>\n",
              "      <td>0.177899</td>\n",
              "      <td>0.100699</td>\n",
              "      <td>0.808529</td>\n",
              "      <td>-0.848933</td>\n",
              "      <td>0.180637</td>\n",
              "      <td>-0.049118</td>\n",
              "    </tr>\n",
              "    <tr>\n",
              "      <th>3</th>\n",
              "      <td>0.279174</td>\n",
              "      <td>-0.026201</td>\n",
              "      <td>-0.123283</td>\n",
              "      <td>-0.996091</td>\n",
              "      <td>-0.983403</td>\n",
              "      <td>-0.990675</td>\n",
              "      <td>-0.997099</td>\n",
              "      <td>-0.982750</td>\n",
              "      <td>-0.989302</td>\n",
              "      <td>-0.938692</td>\n",
              "      <td>...</td>\n",
              "      <td>0.404573</td>\n",
              "      <td>-0.117290</td>\n",
              "      <td>-0.482845</td>\n",
              "      <td>-0.036788</td>\n",
              "      <td>-0.012892</td>\n",
              "      <td>0.640011</td>\n",
              "      <td>-0.485366</td>\n",
              "      <td>-0.848649</td>\n",
              "      <td>0.181935</td>\n",
              "      <td>-0.047663</td>\n",
              "    </tr>\n",
              "    <tr>\n",
              "      <th>4</th>\n",
              "      <td>0.276629</td>\n",
              "      <td>-0.016570</td>\n",
              "      <td>-0.115362</td>\n",
              "      <td>-0.998139</td>\n",
              "      <td>-0.980817</td>\n",
              "      <td>-0.990482</td>\n",
              "      <td>-0.998321</td>\n",
              "      <td>-0.979672</td>\n",
              "      <td>-0.990441</td>\n",
              "      <td>-0.942469</td>\n",
              "      <td>...</td>\n",
              "      <td>0.087753</td>\n",
              "      <td>-0.351471</td>\n",
              "      <td>-0.699205</td>\n",
              "      <td>0.123320</td>\n",
              "      <td>0.122542</td>\n",
              "      <td>0.693578</td>\n",
              "      <td>-0.615971</td>\n",
              "      <td>-0.847865</td>\n",
              "      <td>0.185151</td>\n",
              "      <td>-0.043892</td>\n",
              "    </tr>\n",
              "  </tbody>\n",
              "</table>\n",
              "<p>5 rows × 561 columns</p>\n",
              "</div>"
            ],
            "text/plain": [
              "        0         1         2         3         4         5         6    \\\n",
              "0  0.288585 -0.020294 -0.132905 -0.995279 -0.983111 -0.913526 -0.995112   \n",
              "1  0.278419 -0.016411 -0.123520 -0.998245 -0.975300 -0.960322 -0.998807   \n",
              "2  0.279653 -0.019467 -0.113462 -0.995380 -0.967187 -0.978944 -0.996520   \n",
              "3  0.279174 -0.026201 -0.123283 -0.996091 -0.983403 -0.990675 -0.997099   \n",
              "4  0.276629 -0.016570 -0.115362 -0.998139 -0.980817 -0.990482 -0.998321   \n",
              "\n",
              "        7         8         9      ...          551       552       553  \\\n",
              "0 -0.983185 -0.923527 -0.934724    ...    -0.074323 -0.298676 -0.710304   \n",
              "1 -0.974914 -0.957686 -0.943068    ...     0.158075 -0.595051 -0.861499   \n",
              "2 -0.963668 -0.977469 -0.938692    ...     0.414503 -0.390748 -0.760104   \n",
              "3 -0.982750 -0.989302 -0.938692    ...     0.404573 -0.117290 -0.482845   \n",
              "4 -0.979672 -0.990441 -0.942469    ...     0.087753 -0.351471 -0.699205   \n",
              "\n",
              "        554       555       556       557       558       559       560  \n",
              "0 -0.112754  0.030400 -0.464761 -0.018446 -0.841247  0.179941 -0.058627  \n",
              "1  0.053477 -0.007435 -0.732626  0.703511 -0.844788  0.180289 -0.054317  \n",
              "2 -0.118559  0.177899  0.100699  0.808529 -0.848933  0.180637 -0.049118  \n",
              "3 -0.036788 -0.012892  0.640011 -0.485366 -0.848649  0.181935 -0.047663  \n",
              "4  0.123320  0.122542  0.693578 -0.615971 -0.847865  0.185151 -0.043892  \n",
              "\n",
              "[5 rows x 561 columns]"
            ]
          },
          "metadata": {
            "tags": []
          },
          "execution_count": 440
        }
      ]
    },
    {
      "metadata": {
        "id": "pdrGtbs-fLDu",
        "colab_type": "code",
        "colab": {
          "base_uri": "https://localhost:8080/",
          "height": 115
        },
        "outputId": "3f0026a9-dd75-4b59-e95d-40fa77e74454"
      },
      "cell_type": "code",
      "source": [
        "dfccxt.head()"
      ],
      "execution_count": 441,
      "outputs": [
        {
          "output_type": "execute_result",
          "data": {
            "text/html": [
              "<div>\n",
              "<style scoped>\n",
              "    .dataframe tbody tr th:only-of-type {\n",
              "        vertical-align: middle;\n",
              "    }\n",
              "\n",
              "    .dataframe tbody tr th {\n",
              "        vertical-align: top;\n",
              "    }\n",
              "\n",
              "    .dataframe thead th {\n",
              "        text-align: right;\n",
              "    }\n",
              "</style>\n",
              "<table border=\"1\" class=\"dataframe\">\n",
              "  <thead>\n",
              "    <tr style=\"text-align: right;\">\n",
              "      <th></th>\n",
              "      <th>1</th>\n",
              "      <th>tBodyAcc-mean()-X2</th>\n",
              "      <th>tBodyAcc-mean()-Y3</th>\n",
              "      <th>tBodyAcc-mean()-Z4</th>\n",
              "      <th>tBodyAcc-std()-X5</th>\n",
              "      <th>tBodyAcc-std()-Y6</th>\n",
              "      <th>tBodyAcc-std()-Z7</th>\n",
              "      <th>tBodyAcc-mad()-X8</th>\n",
              "      <th>tBodyAcc-mad()-Y9</th>\n",
              "      <th>tBodyAcc-mad()-Z10</th>\n",
              "      <th>...</th>\n",
              "      <th>fBodyBodyGyroJerkMag-meanFreq()553</th>\n",
              "      <th>fBodyBodyGyroJerkMag-skewness()554</th>\n",
              "      <th>fBodyBodyGyroJerkMag-kurtosis()555</th>\n",
              "      <th>angle(tBodyAccMean,gravity)556</th>\n",
              "      <th>angle(tBodyAccJerkMean),gravityMean)557</th>\n",
              "      <th>angle(tBodyGyroMean,gravityMean)558</th>\n",
              "      <th>angle(tBodyGyroJerkMean,gravityMean)559</th>\n",
              "      <th>angle(X,gravityMean)560</th>\n",
              "      <th>angle(Y,gravityMean)561</th>\n",
              "      <th>angle(Z,gravityMean)</th>\n",
              "    </tr>\n",
              "  </thead>\n",
              "  <tbody>\n",
              "  </tbody>\n",
              "</table>\n",
              "<p>0 rows × 562 columns</p>\n",
              "</div>"
            ],
            "text/plain": [
              "Empty DataFrame\n",
              "Columns: [1, tBodyAcc-mean()-X2, tBodyAcc-mean()-Y3, tBodyAcc-mean()-Z4, tBodyAcc-std()-X5, tBodyAcc-std()-Y6, tBodyAcc-std()-Z7, tBodyAcc-mad()-X8, tBodyAcc-mad()-Y9, tBodyAcc-mad()-Z10, tBodyAcc-max()-X11, tBodyAcc-max()-Y12, tBodyAcc-max()-Z13, tBodyAcc-min()-X14, tBodyAcc-min()-Y15, tBodyAcc-min()-Z16, tBodyAcc-sma()17, tBodyAcc-energy()-X18, tBodyAcc-energy()-Y19, tBodyAcc-energy()-Z20, tBodyAcc-iqr()-X21, tBodyAcc-iqr()-Y22, tBodyAcc-iqr()-Z23, tBodyAcc-entropy()-X24, tBodyAcc-entropy()-Y25, tBodyAcc-entropy()-Z26, tBodyAcc-arCoeff()-X,127, tBodyAcc-arCoeff()-X,228, tBodyAcc-arCoeff()-X,329, tBodyAcc-arCoeff()-X,430, tBodyAcc-arCoeff()-Y,131, tBodyAcc-arCoeff()-Y,232, tBodyAcc-arCoeff()-Y,333, tBodyAcc-arCoeff()-Y,434, tBodyAcc-arCoeff()-Z,135, tBodyAcc-arCoeff()-Z,236, tBodyAcc-arCoeff()-Z,337, tBodyAcc-arCoeff()-Z,438, tBodyAcc-correlation()-X,Y39, tBodyAcc-correlation()-X,Z40, tBodyAcc-correlation()-Y,Z41, tGravityAcc-mean()-X42, tGravityAcc-mean()-Y43, tGravityAcc-mean()-Z44, tGravityAcc-std()-X45, tGravityAcc-std()-Y46, tGravityAcc-std()-Z47, tGravityAcc-mad()-X48, tGravityAcc-mad()-Y49, tGravityAcc-mad()-Z50, tGravityAcc-max()-X51, tGravityAcc-max()-Y52, tGravityAcc-max()-Z53, tGravityAcc-min()-X54, tGravityAcc-min()-Y55, tGravityAcc-min()-Z56, tGravityAcc-sma()57, tGravityAcc-energy()-X58, tGravityAcc-energy()-Y59, tGravityAcc-energy()-Z60, tGravityAcc-iqr()-X61, tGravityAcc-iqr()-Y62, tGravityAcc-iqr()-Z63, tGravityAcc-entropy()-X64, tGravityAcc-entropy()-Y65, tGravityAcc-entropy()-Z66, tGravityAcc-arCoeff()-X,167, tGravityAcc-arCoeff()-X,268, tGravityAcc-arCoeff()-X,369, tGravityAcc-arCoeff()-X,470, tGravityAcc-arCoeff()-Y,171, tGravityAcc-arCoeff()-Y,272, tGravityAcc-arCoeff()-Y,373, tGravityAcc-arCoeff()-Y,474, tGravityAcc-arCoeff()-Z,175, tGravityAcc-arCoeff()-Z,276, tGravityAcc-arCoeff()-Z,377, tGravityAcc-arCoeff()-Z,478, tGravityAcc-correlation()-X,Y79, tGravityAcc-correlation()-X,Z80, tGravityAcc-correlation()-Y,Z81, tBodyAccJerk-mean()-X82, tBodyAccJerk-mean()-Y83, tBodyAccJerk-mean()-Z84, tBodyAccJerk-std()-X85, tBodyAccJerk-std()-Y86, tBodyAccJerk-std()-Z87, tBodyAccJerk-mad()-X88, tBodyAccJerk-mad()-Y89, tBodyAccJerk-mad()-Z90, tBodyAccJerk-max()-X91, tBodyAccJerk-max()-Y92, tBodyAccJerk-max()-Z93, tBodyAccJerk-min()-X94, tBodyAccJerk-min()-Y95, tBodyAccJerk-min()-Z96, tBodyAccJerk-sma()97, tBodyAccJerk-energy()-X98, tBodyAccJerk-energy()-Y99, tBodyAccJerk-energy()-Z100, ...]\n",
              "Index: []\n",
              "\n",
              "[0 rows x 562 columns]"
            ]
          },
          "metadata": {
            "tags": []
          },
          "execution_count": 441
        }
      ]
    },
    {
      "metadata": {
        "id": "ZgK_Jju52kjz",
        "colab_type": "code",
        "colab": {}
      },
      "cell_type": "code",
      "source": [
        "#Droping the first column:\n",
        "dfccxt=dfccxt.drop('1',axis=1)"
      ],
      "execution_count": 0,
      "outputs": []
    },
    {
      "metadata": {
        "id": "0oyrt40aVSck",
        "colab_type": "code",
        "colab": {}
      },
      "cell_type": "code",
      "source": [
        "#makig the columns names by assigning it \n",
        "word.columns=[dfccxt]"
      ],
      "execution_count": 0,
      "outputs": []
    },
    {
      "metadata": {
        "id": "E2aHKciiVoDo",
        "colab_type": "code",
        "colab": {
          "base_uri": "https://localhost:8080/",
          "height": 270
        },
        "outputId": "5f57a116-b1ee-4f1e-9c74-34be43d28223"
      },
      "cell_type": "code",
      "source": [
        "word.head()\n",
        "#we have training file ready"
      ],
      "execution_count": 444,
      "outputs": [
        {
          "output_type": "execute_result",
          "data": {
            "text/html": [
              "<div>\n",
              "<style scoped>\n",
              "    .dataframe tbody tr th:only-of-type {\n",
              "        vertical-align: middle;\n",
              "    }\n",
              "\n",
              "    .dataframe tbody tr th {\n",
              "        vertical-align: top;\n",
              "    }\n",
              "\n",
              "    .dataframe thead tr th {\n",
              "        text-align: left;\n",
              "    }\n",
              "</style>\n",
              "<table border=\"1\" class=\"dataframe\">\n",
              "  <thead>\n",
              "    <tr>\n",
              "      <th></th>\n",
              "      <th>tBodyAcc-mean()-X2</th>\n",
              "      <th>tBodyAcc-mean()-Y3</th>\n",
              "      <th>tBodyAcc-mean()-Z4</th>\n",
              "      <th>tBodyAcc-std()-X5</th>\n",
              "      <th>tBodyAcc-std()-Y6</th>\n",
              "      <th>tBodyAcc-std()-Z7</th>\n",
              "      <th>tBodyAcc-mad()-X8</th>\n",
              "      <th>tBodyAcc-mad()-Y9</th>\n",
              "      <th>tBodyAcc-mad()-Z10</th>\n",
              "      <th>tBodyAcc-max()-X11</th>\n",
              "      <th>...</th>\n",
              "      <th>fBodyBodyGyroJerkMag-meanFreq()553</th>\n",
              "      <th>fBodyBodyGyroJerkMag-skewness()554</th>\n",
              "      <th>fBodyBodyGyroJerkMag-kurtosis()555</th>\n",
              "      <th>angle(tBodyAccMean,gravity)556</th>\n",
              "      <th>angle(tBodyAccJerkMean),gravityMean)557</th>\n",
              "      <th>angle(tBodyGyroMean,gravityMean)558</th>\n",
              "      <th>angle(tBodyGyroJerkMean,gravityMean)559</th>\n",
              "      <th>angle(X,gravityMean)560</th>\n",
              "      <th>angle(Y,gravityMean)561</th>\n",
              "      <th>angle(Z,gravityMean)</th>\n",
              "    </tr>\n",
              "  </thead>\n",
              "  <tbody>\n",
              "    <tr>\n",
              "      <th>0</th>\n",
              "      <td>0.288585</td>\n",
              "      <td>-0.020294</td>\n",
              "      <td>-0.132905</td>\n",
              "      <td>-0.995279</td>\n",
              "      <td>-0.983111</td>\n",
              "      <td>-0.913526</td>\n",
              "      <td>-0.995112</td>\n",
              "      <td>-0.983185</td>\n",
              "      <td>-0.923527</td>\n",
              "      <td>-0.934724</td>\n",
              "      <td>...</td>\n",
              "      <td>-0.074323</td>\n",
              "      <td>-0.298676</td>\n",
              "      <td>-0.710304</td>\n",
              "      <td>-0.112754</td>\n",
              "      <td>0.030400</td>\n",
              "      <td>-0.464761</td>\n",
              "      <td>-0.018446</td>\n",
              "      <td>-0.841247</td>\n",
              "      <td>0.179941</td>\n",
              "      <td>-0.058627</td>\n",
              "    </tr>\n",
              "    <tr>\n",
              "      <th>1</th>\n",
              "      <td>0.278419</td>\n",
              "      <td>-0.016411</td>\n",
              "      <td>-0.123520</td>\n",
              "      <td>-0.998245</td>\n",
              "      <td>-0.975300</td>\n",
              "      <td>-0.960322</td>\n",
              "      <td>-0.998807</td>\n",
              "      <td>-0.974914</td>\n",
              "      <td>-0.957686</td>\n",
              "      <td>-0.943068</td>\n",
              "      <td>...</td>\n",
              "      <td>0.158075</td>\n",
              "      <td>-0.595051</td>\n",
              "      <td>-0.861499</td>\n",
              "      <td>0.053477</td>\n",
              "      <td>-0.007435</td>\n",
              "      <td>-0.732626</td>\n",
              "      <td>0.703511</td>\n",
              "      <td>-0.844788</td>\n",
              "      <td>0.180289</td>\n",
              "      <td>-0.054317</td>\n",
              "    </tr>\n",
              "    <tr>\n",
              "      <th>2</th>\n",
              "      <td>0.279653</td>\n",
              "      <td>-0.019467</td>\n",
              "      <td>-0.113462</td>\n",
              "      <td>-0.995380</td>\n",
              "      <td>-0.967187</td>\n",
              "      <td>-0.978944</td>\n",
              "      <td>-0.996520</td>\n",
              "      <td>-0.963668</td>\n",
              "      <td>-0.977469</td>\n",
              "      <td>-0.938692</td>\n",
              "      <td>...</td>\n",
              "      <td>0.414503</td>\n",
              "      <td>-0.390748</td>\n",
              "      <td>-0.760104</td>\n",
              "      <td>-0.118559</td>\n",
              "      <td>0.177899</td>\n",
              "      <td>0.100699</td>\n",
              "      <td>0.808529</td>\n",
              "      <td>-0.848933</td>\n",
              "      <td>0.180637</td>\n",
              "      <td>-0.049118</td>\n",
              "    </tr>\n",
              "    <tr>\n",
              "      <th>3</th>\n",
              "      <td>0.279174</td>\n",
              "      <td>-0.026201</td>\n",
              "      <td>-0.123283</td>\n",
              "      <td>-0.996091</td>\n",
              "      <td>-0.983403</td>\n",
              "      <td>-0.990675</td>\n",
              "      <td>-0.997099</td>\n",
              "      <td>-0.982750</td>\n",
              "      <td>-0.989302</td>\n",
              "      <td>-0.938692</td>\n",
              "      <td>...</td>\n",
              "      <td>0.404573</td>\n",
              "      <td>-0.117290</td>\n",
              "      <td>-0.482845</td>\n",
              "      <td>-0.036788</td>\n",
              "      <td>-0.012892</td>\n",
              "      <td>0.640011</td>\n",
              "      <td>-0.485366</td>\n",
              "      <td>-0.848649</td>\n",
              "      <td>0.181935</td>\n",
              "      <td>-0.047663</td>\n",
              "    </tr>\n",
              "    <tr>\n",
              "      <th>4</th>\n",
              "      <td>0.276629</td>\n",
              "      <td>-0.016570</td>\n",
              "      <td>-0.115362</td>\n",
              "      <td>-0.998139</td>\n",
              "      <td>-0.980817</td>\n",
              "      <td>-0.990482</td>\n",
              "      <td>-0.998321</td>\n",
              "      <td>-0.979672</td>\n",
              "      <td>-0.990441</td>\n",
              "      <td>-0.942469</td>\n",
              "      <td>...</td>\n",
              "      <td>0.087753</td>\n",
              "      <td>-0.351471</td>\n",
              "      <td>-0.699205</td>\n",
              "      <td>0.123320</td>\n",
              "      <td>0.122542</td>\n",
              "      <td>0.693578</td>\n",
              "      <td>-0.615971</td>\n",
              "      <td>-0.847865</td>\n",
              "      <td>0.185151</td>\n",
              "      <td>-0.043892</td>\n",
              "    </tr>\n",
              "  </tbody>\n",
              "</table>\n",
              "<p>5 rows × 561 columns</p>\n",
              "</div>"
            ],
            "text/plain": [
              "  tBodyAcc-mean()-X2 tBodyAcc-mean()-Y3 tBodyAcc-mean()-Z4 tBodyAcc-std()-X5  \\\n",
              "0           0.288585          -0.020294          -0.132905         -0.995279   \n",
              "1           0.278419          -0.016411          -0.123520         -0.998245   \n",
              "2           0.279653          -0.019467          -0.113462         -0.995380   \n",
              "3           0.279174          -0.026201          -0.123283         -0.996091   \n",
              "4           0.276629          -0.016570          -0.115362         -0.998139   \n",
              "\n",
              "  tBodyAcc-std()-Y6 tBodyAcc-std()-Z7 tBodyAcc-mad()-X8 tBodyAcc-mad()-Y9  \\\n",
              "0         -0.983111         -0.913526         -0.995112         -0.983185   \n",
              "1         -0.975300         -0.960322         -0.998807         -0.974914   \n",
              "2         -0.967187         -0.978944         -0.996520         -0.963668   \n",
              "3         -0.983403         -0.990675         -0.997099         -0.982750   \n",
              "4         -0.980817         -0.990482         -0.998321         -0.979672   \n",
              "\n",
              "  tBodyAcc-mad()-Z10 tBodyAcc-max()-X11         ...           \\\n",
              "0          -0.923527          -0.934724         ...            \n",
              "1          -0.957686          -0.943068         ...            \n",
              "2          -0.977469          -0.938692         ...            \n",
              "3          -0.989302          -0.938692         ...            \n",
              "4          -0.990441          -0.942469         ...            \n",
              "\n",
              "  fBodyBodyGyroJerkMag-meanFreq()553 fBodyBodyGyroJerkMag-skewness()554  \\\n",
              "0                          -0.074323                          -0.298676   \n",
              "1                           0.158075                          -0.595051   \n",
              "2                           0.414503                          -0.390748   \n",
              "3                           0.404573                          -0.117290   \n",
              "4                           0.087753                          -0.351471   \n",
              "\n",
              "  fBodyBodyGyroJerkMag-kurtosis()555 angle(tBodyAccMean,gravity)556  \\\n",
              "0                          -0.710304                      -0.112754   \n",
              "1                          -0.861499                       0.053477   \n",
              "2                          -0.760104                      -0.118559   \n",
              "3                          -0.482845                      -0.036788   \n",
              "4                          -0.699205                       0.123320   \n",
              "\n",
              "  angle(tBodyAccJerkMean),gravityMean)557 angle(tBodyGyroMean,gravityMean)558  \\\n",
              "0                                0.030400                           -0.464761   \n",
              "1                               -0.007435                           -0.732626   \n",
              "2                                0.177899                            0.100699   \n",
              "3                               -0.012892                            0.640011   \n",
              "4                                0.122542                            0.693578   \n",
              "\n",
              "  angle(tBodyGyroJerkMean,gravityMean)559 angle(X,gravityMean)560  \\\n",
              "0                               -0.018446               -0.841247   \n",
              "1                                0.703511               -0.844788   \n",
              "2                                0.808529               -0.848933   \n",
              "3                               -0.485366               -0.848649   \n",
              "4                               -0.615971               -0.847865   \n",
              "\n",
              "  angle(Y,gravityMean)561 angle(Z,gravityMean)  \n",
              "0                0.179941            -0.058627  \n",
              "1                0.180289            -0.054317  \n",
              "2                0.180637            -0.049118  \n",
              "3                0.181935            -0.047663  \n",
              "4                0.185151            -0.043892  \n",
              "\n",
              "[5 rows x 561 columns]"
            ]
          },
          "metadata": {
            "tags": []
          },
          "execution_count": 444
        }
      ]
    },
    {
      "metadata": {
        "id": "kL2DoWZpV5f9",
        "colab_type": "code",
        "colab": {
          "base_uri": "https://localhost:8080/",
          "height": 102
        },
        "outputId": "a332a9e5-5632-477f-c485-d55bc2372c05"
      },
      "cell_type": "code",
      "source": [
        "word.info()\n",
        "#no null value."
      ],
      "execution_count": 445,
      "outputs": [
        {
          "output_type": "stream",
          "text": [
            "<class 'pandas.core.frame.DataFrame'>\n",
            "RangeIndex: 7352 entries, 0 to 7351\n",
            "Columns: 561 entries, (tBodyAcc-mean()-X2,) to (angle(Z,gravityMean),)\n",
            "dtypes: float64(561)\n",
            "memory usage: 31.5 MB\n"
          ],
          "name": "stdout"
        }
      ]
    },
    {
      "metadata": {
        "id": "OJ1gVDlkWzCY",
        "colab_type": "code",
        "colab": {}
      },
      "cell_type": "code",
      "source": [
        "#readig the training Y responce "
      ],
      "execution_count": 0,
      "outputs": []
    },
    {
      "metadata": {
        "id": "O_Bjux3EZaMX",
        "colab_type": "code",
        "colab": {}
      },
      "cell_type": "code",
      "source": [
        "with open('/content/UCI HAR Dataset/train/y_train.txt', 'r') as file :\n",
        "  filedata = file.read()\n",
        "label=filedata.split()\n",
        "#this time we read the word to avoid the other hidden next line charachter.\n"
      ],
      "execution_count": 0,
      "outputs": []
    },
    {
      "metadata": {
        "id": "sI5cNYIxcDXK",
        "colab_type": "code",
        "colab": {}
      },
      "cell_type": "code",
      "source": [
        "label=pd.DataFrame(label)"
      ],
      "execution_count": 0,
      "outputs": []
    },
    {
      "metadata": {
        "id": "CPy6-6EYcKVB",
        "colab_type": "code",
        "colab": {}
      },
      "cell_type": "code",
      "source": [
        "label.columns=['ID']"
      ],
      "execution_count": 0,
      "outputs": []
    },
    {
      "metadata": {
        "id": "gu9PcCyyd48i",
        "colab_type": "code",
        "colab": {}
      },
      "cell_type": "code",
      "source": [
        "#train=pd.concat([word, label], axis=1) code to concatnate the two data frame coloumn wise "
      ],
      "execution_count": 0,
      "outputs": []
    },
    {
      "metadata": {
        "id": "jbxUVMbNhJjn",
        "colab_type": "code",
        "colab": {}
      },
      "cell_type": "code",
      "source": [
        "label.reset_index(drop=True, inplace=True)"
      ],
      "execution_count": 0,
      "outputs": []
    },
    {
      "metadata": {
        "id": "bQAlfS8-sqgY",
        "colab_type": "code",
        "colab": {
          "base_uri": "https://localhost:8080/",
          "height": 204
        },
        "outputId": "c5c882f9-d63c-4aa3-bcfe-9682ff720717"
      },
      "cell_type": "code",
      "source": [
        "label.head()"
      ],
      "execution_count": 451,
      "outputs": [
        {
          "output_type": "execute_result",
          "data": {
            "text/html": [
              "<div>\n",
              "<style scoped>\n",
              "    .dataframe tbody tr th:only-of-type {\n",
              "        vertical-align: middle;\n",
              "    }\n",
              "\n",
              "    .dataframe tbody tr th {\n",
              "        vertical-align: top;\n",
              "    }\n",
              "\n",
              "    .dataframe thead th {\n",
              "        text-align: right;\n",
              "    }\n",
              "</style>\n",
              "<table border=\"1\" class=\"dataframe\">\n",
              "  <thead>\n",
              "    <tr style=\"text-align: right;\">\n",
              "      <th></th>\n",
              "      <th>ID</th>\n",
              "    </tr>\n",
              "  </thead>\n",
              "  <tbody>\n",
              "    <tr>\n",
              "      <th>0</th>\n",
              "      <td>5</td>\n",
              "    </tr>\n",
              "    <tr>\n",
              "      <th>1</th>\n",
              "      <td>5</td>\n",
              "    </tr>\n",
              "    <tr>\n",
              "      <th>2</th>\n",
              "      <td>5</td>\n",
              "    </tr>\n",
              "    <tr>\n",
              "      <th>3</th>\n",
              "      <td>5</td>\n",
              "    </tr>\n",
              "    <tr>\n",
              "      <th>4</th>\n",
              "      <td>5</td>\n",
              "    </tr>\n",
              "  </tbody>\n",
              "</table>\n",
              "</div>"
            ],
            "text/plain": [
              "  ID\n",
              "0  5\n",
              "1  5\n",
              "2  5\n",
              "3  5\n",
              "4  5"
            ]
          },
          "metadata": {
            "tags": []
          },
          "execution_count": 451
        }
      ]
    },
    {
      "metadata": {
        "id": "WnFHmjNnhLSl",
        "colab_type": "code",
        "colab": {}
      },
      "cell_type": "code",
      "source": [
        "## we have Train file lets design test file"
      ],
      "execution_count": 0,
      "outputs": []
    },
    {
      "metadata": {
        "id": "5l_30-Gthx1c",
        "colab_type": "code",
        "colab": {}
      },
      "cell_type": "code",
      "source": [
        "with open('/content/UCI HAR Dataset/test/X_test.txt', 'r') as file :\n",
        "  filedata = file.read()\n",
        "Xtest=filedata.split()"
      ],
      "execution_count": 0,
      "outputs": []
    },
    {
      "metadata": {
        "id": "M-GY-k5Sjgqp",
        "colab_type": "code",
        "colab": {}
      },
      "cell_type": "code",
      "source": [
        "Xtest = np.asarray(Xtest).astype(float)"
      ],
      "execution_count": 0,
      "outputs": []
    },
    {
      "metadata": {
        "id": "LTiT-e9JkIY8",
        "colab_type": "code",
        "colab": {
          "base_uri": "https://localhost:8080/",
          "height": 34
        },
        "outputId": "db827e78-9180-43e2-fea0-e250ca1f13c8"
      },
      "cell_type": "code",
      "source": [
        "Xtest.shape"
      ],
      "execution_count": 479,
      "outputs": [
        {
          "output_type": "execute_result",
          "data": {
            "text/plain": [
              "(1653267,)"
            ]
          },
          "metadata": {
            "tags": []
          },
          "execution_count": 479
        }
      ]
    },
    {
      "metadata": {
        "id": "LbDPu991kOvm",
        "colab_type": "code",
        "colab": {
          "base_uri": "https://localhost:8080/",
          "height": 34
        },
        "outputId": "6d72c5aa-0d6c-4e69-f47c-941436c00eeb"
      },
      "cell_type": "code",
      "source": [
        "1653267/561\n"
      ],
      "execution_count": 455,
      "outputs": [
        {
          "output_type": "execute_result",
          "data": {
            "text/plain": [
              "2947.0"
            ]
          },
          "metadata": {
            "tags": []
          },
          "execution_count": 455
        }
      ]
    },
    {
      "metadata": {
        "id": "a65S8U8ylXLZ",
        "colab_type": "code",
        "colab": {}
      },
      "cell_type": "code",
      "source": [
        "Xtest=Xtest.reshape(2947,561)"
      ],
      "execution_count": 0,
      "outputs": []
    },
    {
      "metadata": {
        "id": "7AEtJOvDlgDl",
        "colab_type": "code",
        "colab": {}
      },
      "cell_type": "code",
      "source": [
        "Xtest= pd.DataFrame(Xtest)"
      ],
      "execution_count": 0,
      "outputs": []
    },
    {
      "metadata": {
        "id": "swkSjrEUlkoZ",
        "colab_type": "code",
        "colab": {
          "base_uri": "https://localhost:8080/",
          "height": 253
        },
        "outputId": "a68958e1-33e9-4af4-8313-a9200c87c159"
      },
      "cell_type": "code",
      "source": [
        "Xtest.head()"
      ],
      "execution_count": 482,
      "outputs": [
        {
          "output_type": "execute_result",
          "data": {
            "text/html": [
              "<div>\n",
              "<style scoped>\n",
              "    .dataframe tbody tr th:only-of-type {\n",
              "        vertical-align: middle;\n",
              "    }\n",
              "\n",
              "    .dataframe tbody tr th {\n",
              "        vertical-align: top;\n",
              "    }\n",
              "\n",
              "    .dataframe thead th {\n",
              "        text-align: right;\n",
              "    }\n",
              "</style>\n",
              "<table border=\"1\" class=\"dataframe\">\n",
              "  <thead>\n",
              "    <tr style=\"text-align: right;\">\n",
              "      <th></th>\n",
              "      <th>0</th>\n",
              "      <th>1</th>\n",
              "      <th>2</th>\n",
              "      <th>3</th>\n",
              "      <th>4</th>\n",
              "      <th>5</th>\n",
              "      <th>6</th>\n",
              "      <th>7</th>\n",
              "      <th>8</th>\n",
              "      <th>9</th>\n",
              "      <th>...</th>\n",
              "      <th>551</th>\n",
              "      <th>552</th>\n",
              "      <th>553</th>\n",
              "      <th>554</th>\n",
              "      <th>555</th>\n",
              "      <th>556</th>\n",
              "      <th>557</th>\n",
              "      <th>558</th>\n",
              "      <th>559</th>\n",
              "      <th>560</th>\n",
              "    </tr>\n",
              "  </thead>\n",
              "  <tbody>\n",
              "    <tr>\n",
              "      <th>0</th>\n",
              "      <td>0.257178</td>\n",
              "      <td>-0.023285</td>\n",
              "      <td>-0.014654</td>\n",
              "      <td>-0.938404</td>\n",
              "      <td>-0.920091</td>\n",
              "      <td>-0.667683</td>\n",
              "      <td>-0.952501</td>\n",
              "      <td>-0.925249</td>\n",
              "      <td>-0.674302</td>\n",
              "      <td>-0.894088</td>\n",
              "      <td>...</td>\n",
              "      <td>0.071645</td>\n",
              "      <td>-0.330370</td>\n",
              "      <td>-0.705974</td>\n",
              "      <td>0.006462</td>\n",
              "      <td>0.162920</td>\n",
              "      <td>-0.825886</td>\n",
              "      <td>0.271151</td>\n",
              "      <td>-0.720009</td>\n",
              "      <td>0.276801</td>\n",
              "      <td>-0.057978</td>\n",
              "    </tr>\n",
              "    <tr>\n",
              "      <th>1</th>\n",
              "      <td>0.286027</td>\n",
              "      <td>-0.013163</td>\n",
              "      <td>-0.119083</td>\n",
              "      <td>-0.975415</td>\n",
              "      <td>-0.967458</td>\n",
              "      <td>-0.944958</td>\n",
              "      <td>-0.986799</td>\n",
              "      <td>-0.968401</td>\n",
              "      <td>-0.945823</td>\n",
              "      <td>-0.894088</td>\n",
              "      <td>...</td>\n",
              "      <td>-0.401189</td>\n",
              "      <td>-0.121845</td>\n",
              "      <td>-0.594944</td>\n",
              "      <td>-0.083495</td>\n",
              "      <td>0.017500</td>\n",
              "      <td>-0.434375</td>\n",
              "      <td>0.920593</td>\n",
              "      <td>-0.698091</td>\n",
              "      <td>0.281343</td>\n",
              "      <td>-0.083898</td>\n",
              "    </tr>\n",
              "    <tr>\n",
              "      <th>2</th>\n",
              "      <td>0.275485</td>\n",
              "      <td>-0.026050</td>\n",
              "      <td>-0.118152</td>\n",
              "      <td>-0.993819</td>\n",
              "      <td>-0.969926</td>\n",
              "      <td>-0.962748</td>\n",
              "      <td>-0.994403</td>\n",
              "      <td>-0.970735</td>\n",
              "      <td>-0.963483</td>\n",
              "      <td>-0.939260</td>\n",
              "      <td>...</td>\n",
              "      <td>0.062891</td>\n",
              "      <td>-0.190422</td>\n",
              "      <td>-0.640736</td>\n",
              "      <td>-0.034956</td>\n",
              "      <td>0.202302</td>\n",
              "      <td>0.064103</td>\n",
              "      <td>0.145068</td>\n",
              "      <td>-0.702771</td>\n",
              "      <td>0.280083</td>\n",
              "      <td>-0.079346</td>\n",
              "    </tr>\n",
              "    <tr>\n",
              "      <th>3</th>\n",
              "      <td>0.270298</td>\n",
              "      <td>-0.032614</td>\n",
              "      <td>-0.117520</td>\n",
              "      <td>-0.994743</td>\n",
              "      <td>-0.973268</td>\n",
              "      <td>-0.967091</td>\n",
              "      <td>-0.995274</td>\n",
              "      <td>-0.974471</td>\n",
              "      <td>-0.968897</td>\n",
              "      <td>-0.938610</td>\n",
              "      <td>...</td>\n",
              "      <td>0.116695</td>\n",
              "      <td>-0.344418</td>\n",
              "      <td>-0.736124</td>\n",
              "      <td>-0.017067</td>\n",
              "      <td>0.154438</td>\n",
              "      <td>0.340134</td>\n",
              "      <td>0.296407</td>\n",
              "      <td>-0.698954</td>\n",
              "      <td>0.284114</td>\n",
              "      <td>-0.077108</td>\n",
              "    </tr>\n",
              "    <tr>\n",
              "      <th>4</th>\n",
              "      <td>0.274833</td>\n",
              "      <td>-0.027848</td>\n",
              "      <td>-0.129527</td>\n",
              "      <td>-0.993852</td>\n",
              "      <td>-0.967445</td>\n",
              "      <td>-0.978295</td>\n",
              "      <td>-0.994111</td>\n",
              "      <td>-0.965953</td>\n",
              "      <td>-0.977346</td>\n",
              "      <td>-0.938610</td>\n",
              "      <td>...</td>\n",
              "      <td>-0.121711</td>\n",
              "      <td>-0.534685</td>\n",
              "      <td>-0.846595</td>\n",
              "      <td>-0.002223</td>\n",
              "      <td>-0.040046</td>\n",
              "      <td>0.736715</td>\n",
              "      <td>-0.118545</td>\n",
              "      <td>-0.692245</td>\n",
              "      <td>0.290722</td>\n",
              "      <td>-0.073857</td>\n",
              "    </tr>\n",
              "  </tbody>\n",
              "</table>\n",
              "<p>5 rows × 561 columns</p>\n",
              "</div>"
            ],
            "text/plain": [
              "        0         1         2         3         4         5         6    \\\n",
              "0  0.257178 -0.023285 -0.014654 -0.938404 -0.920091 -0.667683 -0.952501   \n",
              "1  0.286027 -0.013163 -0.119083 -0.975415 -0.967458 -0.944958 -0.986799   \n",
              "2  0.275485 -0.026050 -0.118152 -0.993819 -0.969926 -0.962748 -0.994403   \n",
              "3  0.270298 -0.032614 -0.117520 -0.994743 -0.973268 -0.967091 -0.995274   \n",
              "4  0.274833 -0.027848 -0.129527 -0.993852 -0.967445 -0.978295 -0.994111   \n",
              "\n",
              "        7         8         9      ...          551       552       553  \\\n",
              "0 -0.925249 -0.674302 -0.894088    ...     0.071645 -0.330370 -0.705974   \n",
              "1 -0.968401 -0.945823 -0.894088    ...    -0.401189 -0.121845 -0.594944   \n",
              "2 -0.970735 -0.963483 -0.939260    ...     0.062891 -0.190422 -0.640736   \n",
              "3 -0.974471 -0.968897 -0.938610    ...     0.116695 -0.344418 -0.736124   \n",
              "4 -0.965953 -0.977346 -0.938610    ...    -0.121711 -0.534685 -0.846595   \n",
              "\n",
              "        554       555       556       557       558       559       560  \n",
              "0  0.006462  0.162920 -0.825886  0.271151 -0.720009  0.276801 -0.057978  \n",
              "1 -0.083495  0.017500 -0.434375  0.920593 -0.698091  0.281343 -0.083898  \n",
              "2 -0.034956  0.202302  0.064103  0.145068 -0.702771  0.280083 -0.079346  \n",
              "3 -0.017067  0.154438  0.340134  0.296407 -0.698954  0.284114 -0.077108  \n",
              "4 -0.002223 -0.040046  0.736715 -0.118545 -0.692245  0.290722 -0.073857  \n",
              "\n",
              "[5 rows x 561 columns]"
            ]
          },
          "metadata": {
            "tags": []
          },
          "execution_count": 482
        }
      ]
    },
    {
      "metadata": {
        "id": "a5OPUv9clmKN",
        "colab_type": "code",
        "colab": {}
      },
      "cell_type": "code",
      "source": [
        "Xtest.columns=[dfccxt]"
      ],
      "execution_count": 0,
      "outputs": []
    },
    {
      "metadata": {
        "id": "oeXGqP9xluyD",
        "colab_type": "code",
        "colab": {
          "base_uri": "https://localhost:8080/",
          "height": 270
        },
        "outputId": "a6f70dcc-e242-4788-8ecb-561ce268922d"
      },
      "cell_type": "code",
      "source": [
        "Xtest.head()"
      ],
      "execution_count": 484,
      "outputs": [
        {
          "output_type": "execute_result",
          "data": {
            "text/html": [
              "<div>\n",
              "<style scoped>\n",
              "    .dataframe tbody tr th:only-of-type {\n",
              "        vertical-align: middle;\n",
              "    }\n",
              "\n",
              "    .dataframe tbody tr th {\n",
              "        vertical-align: top;\n",
              "    }\n",
              "\n",
              "    .dataframe thead tr th {\n",
              "        text-align: left;\n",
              "    }\n",
              "</style>\n",
              "<table border=\"1\" class=\"dataframe\">\n",
              "  <thead>\n",
              "    <tr>\n",
              "      <th></th>\n",
              "      <th>tBodyAcc-mean()-X2</th>\n",
              "      <th>tBodyAcc-mean()-Y3</th>\n",
              "      <th>tBodyAcc-mean()-Z4</th>\n",
              "      <th>tBodyAcc-std()-X5</th>\n",
              "      <th>tBodyAcc-std()-Y6</th>\n",
              "      <th>tBodyAcc-std()-Z7</th>\n",
              "      <th>tBodyAcc-mad()-X8</th>\n",
              "      <th>tBodyAcc-mad()-Y9</th>\n",
              "      <th>tBodyAcc-mad()-Z10</th>\n",
              "      <th>tBodyAcc-max()-X11</th>\n",
              "      <th>...</th>\n",
              "      <th>fBodyBodyGyroJerkMag-meanFreq()553</th>\n",
              "      <th>fBodyBodyGyroJerkMag-skewness()554</th>\n",
              "      <th>fBodyBodyGyroJerkMag-kurtosis()555</th>\n",
              "      <th>angle(tBodyAccMean,gravity)556</th>\n",
              "      <th>angle(tBodyAccJerkMean),gravityMean)557</th>\n",
              "      <th>angle(tBodyGyroMean,gravityMean)558</th>\n",
              "      <th>angle(tBodyGyroJerkMean,gravityMean)559</th>\n",
              "      <th>angle(X,gravityMean)560</th>\n",
              "      <th>angle(Y,gravityMean)561</th>\n",
              "      <th>angle(Z,gravityMean)</th>\n",
              "    </tr>\n",
              "  </thead>\n",
              "  <tbody>\n",
              "    <tr>\n",
              "      <th>0</th>\n",
              "      <td>0.257178</td>\n",
              "      <td>-0.023285</td>\n",
              "      <td>-0.014654</td>\n",
              "      <td>-0.938404</td>\n",
              "      <td>-0.920091</td>\n",
              "      <td>-0.667683</td>\n",
              "      <td>-0.952501</td>\n",
              "      <td>-0.925249</td>\n",
              "      <td>-0.674302</td>\n",
              "      <td>-0.894088</td>\n",
              "      <td>...</td>\n",
              "      <td>0.071645</td>\n",
              "      <td>-0.330370</td>\n",
              "      <td>-0.705974</td>\n",
              "      <td>0.006462</td>\n",
              "      <td>0.162920</td>\n",
              "      <td>-0.825886</td>\n",
              "      <td>0.271151</td>\n",
              "      <td>-0.720009</td>\n",
              "      <td>0.276801</td>\n",
              "      <td>-0.057978</td>\n",
              "    </tr>\n",
              "    <tr>\n",
              "      <th>1</th>\n",
              "      <td>0.286027</td>\n",
              "      <td>-0.013163</td>\n",
              "      <td>-0.119083</td>\n",
              "      <td>-0.975415</td>\n",
              "      <td>-0.967458</td>\n",
              "      <td>-0.944958</td>\n",
              "      <td>-0.986799</td>\n",
              "      <td>-0.968401</td>\n",
              "      <td>-0.945823</td>\n",
              "      <td>-0.894088</td>\n",
              "      <td>...</td>\n",
              "      <td>-0.401189</td>\n",
              "      <td>-0.121845</td>\n",
              "      <td>-0.594944</td>\n",
              "      <td>-0.083495</td>\n",
              "      <td>0.017500</td>\n",
              "      <td>-0.434375</td>\n",
              "      <td>0.920593</td>\n",
              "      <td>-0.698091</td>\n",
              "      <td>0.281343</td>\n",
              "      <td>-0.083898</td>\n",
              "    </tr>\n",
              "    <tr>\n",
              "      <th>2</th>\n",
              "      <td>0.275485</td>\n",
              "      <td>-0.026050</td>\n",
              "      <td>-0.118152</td>\n",
              "      <td>-0.993819</td>\n",
              "      <td>-0.969926</td>\n",
              "      <td>-0.962748</td>\n",
              "      <td>-0.994403</td>\n",
              "      <td>-0.970735</td>\n",
              "      <td>-0.963483</td>\n",
              "      <td>-0.939260</td>\n",
              "      <td>...</td>\n",
              "      <td>0.062891</td>\n",
              "      <td>-0.190422</td>\n",
              "      <td>-0.640736</td>\n",
              "      <td>-0.034956</td>\n",
              "      <td>0.202302</td>\n",
              "      <td>0.064103</td>\n",
              "      <td>0.145068</td>\n",
              "      <td>-0.702771</td>\n",
              "      <td>0.280083</td>\n",
              "      <td>-0.079346</td>\n",
              "    </tr>\n",
              "    <tr>\n",
              "      <th>3</th>\n",
              "      <td>0.270298</td>\n",
              "      <td>-0.032614</td>\n",
              "      <td>-0.117520</td>\n",
              "      <td>-0.994743</td>\n",
              "      <td>-0.973268</td>\n",
              "      <td>-0.967091</td>\n",
              "      <td>-0.995274</td>\n",
              "      <td>-0.974471</td>\n",
              "      <td>-0.968897</td>\n",
              "      <td>-0.938610</td>\n",
              "      <td>...</td>\n",
              "      <td>0.116695</td>\n",
              "      <td>-0.344418</td>\n",
              "      <td>-0.736124</td>\n",
              "      <td>-0.017067</td>\n",
              "      <td>0.154438</td>\n",
              "      <td>0.340134</td>\n",
              "      <td>0.296407</td>\n",
              "      <td>-0.698954</td>\n",
              "      <td>0.284114</td>\n",
              "      <td>-0.077108</td>\n",
              "    </tr>\n",
              "    <tr>\n",
              "      <th>4</th>\n",
              "      <td>0.274833</td>\n",
              "      <td>-0.027848</td>\n",
              "      <td>-0.129527</td>\n",
              "      <td>-0.993852</td>\n",
              "      <td>-0.967445</td>\n",
              "      <td>-0.978295</td>\n",
              "      <td>-0.994111</td>\n",
              "      <td>-0.965953</td>\n",
              "      <td>-0.977346</td>\n",
              "      <td>-0.938610</td>\n",
              "      <td>...</td>\n",
              "      <td>-0.121711</td>\n",
              "      <td>-0.534685</td>\n",
              "      <td>-0.846595</td>\n",
              "      <td>-0.002223</td>\n",
              "      <td>-0.040046</td>\n",
              "      <td>0.736715</td>\n",
              "      <td>-0.118545</td>\n",
              "      <td>-0.692245</td>\n",
              "      <td>0.290722</td>\n",
              "      <td>-0.073857</td>\n",
              "    </tr>\n",
              "  </tbody>\n",
              "</table>\n",
              "<p>5 rows × 561 columns</p>\n",
              "</div>"
            ],
            "text/plain": [
              "  tBodyAcc-mean()-X2 tBodyAcc-mean()-Y3 tBodyAcc-mean()-Z4 tBodyAcc-std()-X5  \\\n",
              "0           0.257178          -0.023285          -0.014654         -0.938404   \n",
              "1           0.286027          -0.013163          -0.119083         -0.975415   \n",
              "2           0.275485          -0.026050          -0.118152         -0.993819   \n",
              "3           0.270298          -0.032614          -0.117520         -0.994743   \n",
              "4           0.274833          -0.027848          -0.129527         -0.993852   \n",
              "\n",
              "  tBodyAcc-std()-Y6 tBodyAcc-std()-Z7 tBodyAcc-mad()-X8 tBodyAcc-mad()-Y9  \\\n",
              "0         -0.920091         -0.667683         -0.952501         -0.925249   \n",
              "1         -0.967458         -0.944958         -0.986799         -0.968401   \n",
              "2         -0.969926         -0.962748         -0.994403         -0.970735   \n",
              "3         -0.973268         -0.967091         -0.995274         -0.974471   \n",
              "4         -0.967445         -0.978295         -0.994111         -0.965953   \n",
              "\n",
              "  tBodyAcc-mad()-Z10 tBodyAcc-max()-X11         ...           \\\n",
              "0          -0.674302          -0.894088         ...            \n",
              "1          -0.945823          -0.894088         ...            \n",
              "2          -0.963483          -0.939260         ...            \n",
              "3          -0.968897          -0.938610         ...            \n",
              "4          -0.977346          -0.938610         ...            \n",
              "\n",
              "  fBodyBodyGyroJerkMag-meanFreq()553 fBodyBodyGyroJerkMag-skewness()554  \\\n",
              "0                           0.071645                          -0.330370   \n",
              "1                          -0.401189                          -0.121845   \n",
              "2                           0.062891                          -0.190422   \n",
              "3                           0.116695                          -0.344418   \n",
              "4                          -0.121711                          -0.534685   \n",
              "\n",
              "  fBodyBodyGyroJerkMag-kurtosis()555 angle(tBodyAccMean,gravity)556  \\\n",
              "0                          -0.705974                       0.006462   \n",
              "1                          -0.594944                      -0.083495   \n",
              "2                          -0.640736                      -0.034956   \n",
              "3                          -0.736124                      -0.017067   \n",
              "4                          -0.846595                      -0.002223   \n",
              "\n",
              "  angle(tBodyAccJerkMean),gravityMean)557 angle(tBodyGyroMean,gravityMean)558  \\\n",
              "0                                0.162920                           -0.825886   \n",
              "1                                0.017500                           -0.434375   \n",
              "2                                0.202302                            0.064103   \n",
              "3                                0.154438                            0.340134   \n",
              "4                               -0.040046                            0.736715   \n",
              "\n",
              "  angle(tBodyGyroJerkMean,gravityMean)559 angle(X,gravityMean)560  \\\n",
              "0                                0.271151               -0.720009   \n",
              "1                                0.920593               -0.698091   \n",
              "2                                0.145068               -0.702771   \n",
              "3                                0.296407               -0.698954   \n",
              "4                               -0.118545               -0.692245   \n",
              "\n",
              "  angle(Y,gravityMean)561 angle(Z,gravityMean)  \n",
              "0                0.276801            -0.057978  \n",
              "1                0.281343            -0.083898  \n",
              "2                0.280083            -0.079346  \n",
              "3                0.284114            -0.077108  \n",
              "4                0.290722            -0.073857  \n",
              "\n",
              "[5 rows x 561 columns]"
            ]
          },
          "metadata": {
            "tags": []
          },
          "execution_count": 484
        }
      ]
    },
    {
      "metadata": {
        "id": "3cpTYmZ5lwVJ",
        "colab_type": "code",
        "colab": {}
      },
      "cell_type": "code",
      "source": [
        "############################################### Now we have the file###################3####\n",
        "############### Label is categorical firs we apply the logistic regression"
      ],
      "execution_count": 0,
      "outputs": []
    },
    {
      "metadata": {
        "id": "NGB1KiJsnt6q",
        "colab_type": "code",
        "colab": {}
      },
      "cell_type": "code",
      "source": [
        "from sklearn.model_selection import train_test_split\n",
        "X_train, X_test, Y_train,Y_test = train_test_split(word,label['ID'],test_size=.33,random_state=42)"
      ],
      "execution_count": 0,
      "outputs": []
    },
    {
      "metadata": {
        "id": "Lq-5qLU-oPhD",
        "colab_type": "code",
        "colab": {
          "base_uri": "https://localhost:8080/",
          "height": 85
        },
        "outputId": "7e461835-0776-4248-a6bb-a4bc1966dd43"
      },
      "cell_type": "code",
      "source": [
        "print(X_train.shape)\n",
        "print(Y_train.shape)\n",
        "print(X_test.shape)\n",
        "print(Y_test.shape)\n"
      ],
      "execution_count": 463,
      "outputs": [
        {
          "output_type": "stream",
          "text": [
            "(4925, 561)\n",
            "(4925,)\n",
            "(2427, 561)\n",
            "(2427,)\n"
          ],
          "name": "stdout"
        }
      ]
    },
    {
      "metadata": {
        "id": "tjLGkUiHruDo",
        "colab_type": "code",
        "colab": {
          "base_uri": "https://localhost:8080/",
          "height": 119
        },
        "outputId": "09b98820-2f86-46f3-d1ae-8ee5cca7f0e5"
      },
      "cell_type": "code",
      "source": [
        "Y_test.head()"
      ],
      "execution_count": 464,
      "outputs": [
        {
          "output_type": "execute_result",
          "data": {
            "text/plain": [
              "4525    3\n",
              "1446    3\n",
              "5995    1\n",
              "4222    4\n",
              "6754    3\n",
              "Name: ID, dtype: object"
            ]
          },
          "metadata": {
            "tags": []
          },
          "execution_count": 464
        }
      ]
    },
    {
      "metadata": {
        "id": "_hvb-hMTp3ci",
        "colab_type": "code",
        "colab": {
          "base_uri": "https://localhost:8080/",
          "height": 71
        },
        "outputId": "93405cf5-44ea-47d6-fb21-ee485da2ce5e"
      },
      "cell_type": "code",
      "source": [
        "from sklearn.linear_model import LogisticRegression\n",
        "clf = LogisticRegression(random_state=0, solver='lbfgs',multi_class='multinomial').fit(X_train, Y_train)\n",
        "# As we will find that logistic regression is not working or converging might possible data is not well suited for the Regresion "
      ],
      "execution_count": 465,
      "outputs": [
        {
          "output_type": "stream",
          "text": [
            "/usr/local/lib/python3.6/dist-packages/sklearn/linear_model/logistic.py:758: ConvergenceWarning: lbfgs failed to converge. Increase the number of iterations.\n",
            "  \"of iterations.\", ConvergenceWarning)\n"
          ],
          "name": "stderr"
        }
      ]
    },
    {
      "metadata": {
        "id": "c6TTi3V8qhn-",
        "colab_type": "code",
        "colab": {}
      },
      "cell_type": "code",
      "source": [
        "#As the part there are 561 feature means 561 domain we need to reduce the dimnetion as some vector may be the combination  \n",
        "#of other combination\n",
        "from sklearn.decomposition import PCA"
      ],
      "execution_count": 0,
      "outputs": []
    },
    {
      "metadata": {
        "id": "2TQWlTX4_3VV",
        "colab_type": "code",
        "colab": {}
      },
      "cell_type": "code",
      "source": [
        "pca_transformer = PCA(n_components=0.93)#here we want 93% accuracy and let the PCA select the column or feature or dimention"
      ],
      "execution_count": 0,
      "outputs": []
    },
    {
      "metadata": {
        "id": "z6trfbSe_8wq",
        "colab_type": "code",
        "colab": {}
      },
      "cell_type": "code",
      "source": [
        "pca_data = pca_transformer.fit_transform(word)"
      ],
      "execution_count": 0,
      "outputs": []
    },
    {
      "metadata": {
        "id": "e605KgnDAFxo",
        "colab_type": "code",
        "colab": {
          "base_uri": "https://localhost:8080/",
          "height": 187
        },
        "outputId": "5408d7ba-60c6-4846-94f2-66ecb5343823"
      },
      "cell_type": "code",
      "source": [
        "pca_transformer.explained_variance_ratio_  # as we can see that few column have major impact on responce "
      ],
      "execution_count": 468,
      "outputs": [
        {
          "output_type": "execute_result",
          "data": {
            "text/plain": [
              "array([0.6255444 , 0.04913023, 0.04121467, 0.01874956, 0.0169486 ,\n",
              "       0.01272069, 0.01176685, 0.01068973, 0.0096938 , 0.00858018,\n",
              "       0.00762302, 0.00672446, 0.0057942 , 0.00557881, 0.00498926,\n",
              "       0.00474938, 0.004672  , 0.00431618, 0.00425715, 0.00410395,\n",
              "       0.00394002, 0.00375309, 0.00352427, 0.00339359, 0.00332139,\n",
              "       0.00319429, 0.00301779, 0.00291783, 0.0028957 , 0.00281928,\n",
              "       0.00276704, 0.00263395, 0.00255307, 0.00235866, 0.00230652,\n",
              "       0.00223648, 0.00222948, 0.00210276, 0.00208393, 0.00204774,\n",
              "       0.00192856, 0.0018888 , 0.0018118 , 0.00179473, 0.00172328,\n",
              "       0.00160202, 0.00157039, 0.00156627, 0.0015297 , 0.00150351])"
            ]
          },
          "metadata": {
            "tags": []
          },
          "execution_count": 468
        }
      ]
    },
    {
      "metadata": {
        "id": "mOpvqBE1ANGV",
        "colab_type": "code",
        "colab": {
          "base_uri": "https://localhost:8080/",
          "height": 238
        },
        "outputId": "8cc03e84-64c6-4ba7-e76c-53036a05a165"
      },
      "cell_type": "code",
      "source": [
        "pca_data"
      ],
      "execution_count": 469,
      "outputs": [
        {
          "output_type": "execute_result",
          "data": {
            "text/plain": [
              "array([[-5.52028030e+00, -2.90277517e-01, -1.52992855e+00, ...,\n",
              "         4.96480702e-01,  6.61179799e-01,  3.99788654e-01],\n",
              "       [-5.53534954e+00, -8.25302495e-02, -1.92480428e+00, ...,\n",
              "        -3.59269573e-01, -2.71408984e-02, -3.77171591e-01],\n",
              "       [-5.47498801e+00,  2.87387051e-01, -2.14464160e+00, ...,\n",
              "        -4.52845893e-01,  1.24824660e-01, -1.83324291e-01],\n",
              "       ...,\n",
              "       [ 5.85750527e+00, -3.08184349e+00,  6.71207302e-01, ...,\n",
              "         5.43335126e-02,  4.91706718e-02, -2.30047008e-01],\n",
              "       [ 5.42109482e+00, -3.42643018e+00,  6.71243268e-01, ...,\n",
              "         2.33396286e-01,  2.09021964e-01,  1.20165539e-01],\n",
              "       [ 5.49797027e+00, -2.78992873e+00,  5.72224007e-03, ...,\n",
              "         4.79863956e-01,  3.27206942e-01, -1.73968413e-01]])"
            ]
          },
          "metadata": {
            "tags": []
          },
          "execution_count": 469
        }
      ]
    },
    {
      "metadata": {
        "id": "oYV8CAaFEM8Y",
        "colab_type": "code",
        "colab": {
          "base_uri": "https://localhost:8080/",
          "height": 238
        },
        "outputId": "4abc426c-7edc-4053-bc31-3dd1125d5e0b"
      },
      "cell_type": "code",
      "source": [
        "#this technique is used to remove the mean need to understand the data but we use the full data so for now it is not create the effect\n",
        "from sklearn.preprocessing import StandardScaler\n",
        "scaler = StandardScaler()\n",
        "scaler.fit(pca_data)\n",
        "print(scaler.mean_)"
      ],
      "execution_count": 470,
      "outputs": [
        {
          "output_type": "stream",
          "text": [
            "[-3.09267785e-16  6.02299011e-15 -2.65197126e-15 -1.73189960e-15\n",
            " -2.88585502e-15 -9.20071660e-16  2.12621602e-16 -2.58238600e-15\n",
            "  1.83241163e-15 -1.28732715e-15  5.39285700e-16 -3.42707364e-15\n",
            " -2.65197126e-15 -5.25755234e-16 -2.57465431e-15 -2.04889907e-15\n",
            "  8.84312572e-16  6.93919592e-16 -6.41730654e-16 -2.42388626e-15\n",
            "  8.42754714e-16 -1.56180231e-15  1.10176648e-15  3.45703396e-15\n",
            " -8.54352256e-16 -4.22295496e-15 -4.51337674e-15 -5.84902698e-15\n",
            " -2.92837934e-15  7.01264702e-15 -2.55919092e-15  4.93185471e-15\n",
            "  6.93919592e-16 -1.14912311e-15 -5.48950318e-16  6.20855078e-15\n",
            "  9.98258422e-15  1.46515613e-15  4.74146173e-15  6.48979117e-15\n",
            " -7.30645142e-16  5.62094199e-15  1.47675367e-15 -1.79955192e-15\n",
            " -6.85608021e-15  4.55541783e-15 -3.39807979e-15  1.83144516e-16\n",
            "  3.95862765e-15 -2.10398740e-15]\n"
          ],
          "name": "stdout"
        }
      ]
    },
    {
      "metadata": {
        "id": "Zls5pQ90ENY1",
        "colab_type": "code",
        "colab": {}
      },
      "cell_type": "code",
      "source": [
        "pca_data=scaler.transform(pca_data)"
      ],
      "execution_count": 0,
      "outputs": []
    },
    {
      "metadata": {
        "id": "GEJUVBAMAp1S",
        "colab_type": "code",
        "colab": {}
      },
      "cell_type": "code",
      "source": [
        "#X_train, X_test, Y_train,Y_test = train_test_split(pca_data,label['ID'],test_size=.33,random_state=42)\n",
        "X_train, X_test, Y_train,Y_test = train_test_split(word,label['ID'],test_size=.33,random_state=42)"
      ],
      "execution_count": 0,
      "outputs": []
    },
    {
      "metadata": {
        "id": "iiYbKh7DBGrD",
        "colab_type": "code",
        "colab": {
          "base_uri": "https://localhost:8080/",
          "height": 71
        },
        "outputId": "a89f3785-59d6-4132-90b4-73916a8dd7fa"
      },
      "cell_type": "code",
      "source": [
        "clf = LogisticRegression(random_state=0, solver='lbfgs',multi_class='multinomial').fit(X_train, Y_train)"
      ],
      "execution_count": 473,
      "outputs": [
        {
          "output_type": "stream",
          "text": [
            "/usr/local/lib/python3.6/dist-packages/sklearn/linear_model/logistic.py:758: ConvergenceWarning: lbfgs failed to converge. Increase the number of iterations.\n",
            "  \"of iterations.\", ConvergenceWarning)\n"
          ],
          "name": "stderr"
        }
      ]
    },
    {
      "metadata": {
        "id": "ItwALFzcBKLT",
        "colab_type": "code",
        "colab": {
          "base_uri": "https://localhost:8080/",
          "height": 85
        },
        "outputId": "e975635b-217f-4eee-8ef4-d3456a4898ae"
      },
      "cell_type": "code",
      "source": [
        "#Using the SVM to get the processing \n",
        "from sklearn import svm\n",
        "svm1 = svm.SVC(gamma='scale')\n",
        "svm1.fit(X_train,Y_train)"
      ],
      "execution_count": 474,
      "outputs": [
        {
          "output_type": "execute_result",
          "data": {
            "text/plain": [
              "SVC(C=1.0, cache_size=200, class_weight=None, coef0=0.0,\n",
              "  decision_function_shape='ovr', degree=3, gamma='scale', kernel='rbf',\n",
              "  max_iter=-1, probability=False, random_state=None, shrinking=True,\n",
              "  tol=0.001, verbose=False)"
            ]
          },
          "metadata": {
            "tags": []
          },
          "execution_count": 474
        }
      ]
    },
    {
      "metadata": {
        "id": "nsVGDfyBOcsQ",
        "colab_type": "code",
        "colab": {
          "base_uri": "https://localhost:8080/",
          "height": 34
        },
        "outputId": "f917e0e3-17cb-4976-f844-feb6c17f35e7"
      },
      "cell_type": "code",
      "source": [
        "svm1.score(X_test,Y_test)# to get the score around 95%"
      ],
      "execution_count": 475,
      "outputs": [
        {
          "output_type": "execute_result",
          "data": {
            "text/plain": [
              "0.9559126493613515"
            ]
          },
          "metadata": {
            "tags": []
          },
          "execution_count": 475
        }
      ]
    },
    {
      "metadata": {
        "id": "vg62vvTvOi2q",
        "colab_type": "code",
        "colab": {}
      },
      "cell_type": "code",
      "source": [
        "#Xtest = pca_transformer.fit_transform(Xtest) #as we apply the data pca_transform this is not same as we perfomr at xtrain"
      ],
      "execution_count": 0,
      "outputs": []
    },
    {
      "metadata": {
        "id": "3Oo938Y3POCC",
        "colab_type": "code",
        "colab": {}
      },
      "cell_type": "code",
      "source": [
        "#reading the Y test label\n",
        "with open('/content/UCI HAR Dataset/test/y_test.txt', 'r') as file :\n",
        "    filedata = file.read()\n",
        "ylabel=filedata.split()\n"
      ],
      "execution_count": 0,
      "outputs": []
    },
    {
      "metadata": {
        "id": "XsCCbdEMPX5s",
        "colab_type": "code",
        "colab": {}
      },
      "cell_type": "code",
      "source": [
        "ylabel=pd.DataFrame(ylabel)"
      ],
      "execution_count": 0,
      "outputs": []
    },
    {
      "metadata": {
        "id": "hIOzUFJmPfqp",
        "colab_type": "code",
        "colab": {
          "base_uri": "https://localhost:8080/",
          "height": 204
        },
        "outputId": "f4f97fc9-d22b-49b7-9a2c-9c5355d62703"
      },
      "cell_type": "code",
      "source": [
        "ylabel.head()"
      ],
      "execution_count": 487,
      "outputs": [
        {
          "output_type": "execute_result",
          "data": {
            "text/html": [
              "<div>\n",
              "<style scoped>\n",
              "    .dataframe tbody tr th:only-of-type {\n",
              "        vertical-align: middle;\n",
              "    }\n",
              "\n",
              "    .dataframe tbody tr th {\n",
              "        vertical-align: top;\n",
              "    }\n",
              "\n",
              "    .dataframe thead th {\n",
              "        text-align: right;\n",
              "    }\n",
              "</style>\n",
              "<table border=\"1\" class=\"dataframe\">\n",
              "  <thead>\n",
              "    <tr style=\"text-align: right;\">\n",
              "      <th></th>\n",
              "      <th>0</th>\n",
              "    </tr>\n",
              "  </thead>\n",
              "  <tbody>\n",
              "    <tr>\n",
              "      <th>0</th>\n",
              "      <td>5</td>\n",
              "    </tr>\n",
              "    <tr>\n",
              "      <th>1</th>\n",
              "      <td>5</td>\n",
              "    </tr>\n",
              "    <tr>\n",
              "      <th>2</th>\n",
              "      <td>5</td>\n",
              "    </tr>\n",
              "    <tr>\n",
              "      <th>3</th>\n",
              "      <td>5</td>\n",
              "    </tr>\n",
              "    <tr>\n",
              "      <th>4</th>\n",
              "      <td>5</td>\n",
              "    </tr>\n",
              "  </tbody>\n",
              "</table>\n",
              "</div>"
            ],
            "text/plain": [
              "   0\n",
              "0  5\n",
              "1  5\n",
              "2  5\n",
              "3  5\n",
              "4  5"
            ]
          },
          "metadata": {
            "tags": []
          },
          "execution_count": 487
        }
      ]
    },
    {
      "metadata": {
        "id": "41ngym1LPj-O",
        "colab_type": "code",
        "colab": {
          "base_uri": "https://localhost:8080/",
          "height": 34
        },
        "outputId": "921f9a67-ae6a-426b-90bb-2a7f25019c4f"
      },
      "cell_type": "code",
      "source": [
        "ylabel.shape"
      ],
      "execution_count": 488,
      "outputs": [
        {
          "output_type": "execute_result",
          "data": {
            "text/plain": [
              "(2947, 1)"
            ]
          },
          "metadata": {
            "tags": []
          },
          "execution_count": 488
        }
      ]
    },
    {
      "metadata": {
        "id": "jh3o80pfRoBz",
        "colab_type": "code",
        "colab": {
          "base_uri": "https://localhost:8080/",
          "height": 34
        },
        "outputId": "18b558b1-e617-4942-c487-7092db1bd790"
      },
      "cell_type": "code",
      "source": [
        "Xtest.shape"
      ],
      "execution_count": 489,
      "outputs": [
        {
          "output_type": "execute_result",
          "data": {
            "text/plain": [
              "(2947, 561)"
            ]
          },
          "metadata": {
            "tags": []
          },
          "execution_count": 489
        }
      ]
    },
    {
      "metadata": {
        "id": "_AmBAdl1eP0S",
        "colab_type": "code",
        "colab": {
          "base_uri": "https://localhost:8080/",
          "height": 34
        },
        "outputId": "fda3e15d-6c50-4a55-efa4-6814531c8a1c"
      },
      "cell_type": "code",
      "source": [
        "svm1.score(Xtest,ylabel) #around 94%"
      ],
      "execution_count": 490,
      "outputs": [
        {
          "output_type": "execute_result",
          "data": {
            "text/plain": [
              "0.9429928741092637"
            ]
          },
          "metadata": {
            "tags": []
          },
          "execution_count": 490
        }
      ]
    },
    {
      "metadata": {
        "id": "wiTv5PTB2tG0",
        "colab_type": "code",
        "colab": {}
      },
      "cell_type": "code",
      "source": [
        "#EDA is comming soon and why logistic regression fail ?"
      ],
      "execution_count": 0,
      "outputs": []
    }
  ]
}